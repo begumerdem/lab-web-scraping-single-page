{
 "cells": [
  {
   "cell_type": "markdown",
   "id": "cb161a5b",
   "metadata": {},
   "source": [
    "# import necessary libraries for web scraping"
   ]
  },
  {
   "cell_type": "code",
   "execution_count": 1,
   "id": "d46fd42b",
   "metadata": {},
   "outputs": [],
   "source": [
    "from bs4 import BeautifulSoup\n",
    "import requests\n",
    "import pandas as pd"
   ]
  },
  {
   "cell_type": "markdown",
   "id": "79f7c468",
   "metadata": {},
   "source": [
    "# enter the url of the website to get the data from"
   ]
  },
  {
   "cell_type": "code",
   "execution_count": 2,
   "id": "07efa080",
   "metadata": {},
   "outputs": [],
   "source": [
    "url = \"https://playback.fm/charts/top-100-songs/2021\""
   ]
  },
  {
   "cell_type": "code",
   "execution_count": 3,
   "id": "a4d0fd6c",
   "metadata": {},
   "outputs": [
    {
     "data": {
      "text/plain": [
       "200"
      ]
     },
     "execution_count": 3,
     "metadata": {},
     "output_type": "execute_result"
    }
   ],
   "source": [
    "response = requests.get(url)\n",
    "response.status_code"
   ]
  },
  {
   "cell_type": "markdown",
   "id": "991b7390",
   "metadata": {},
   "source": [
    "# look at the content of the data"
   ]
  },
  {
   "cell_type": "code",
   "execution_count": 4,
   "id": "1c146300",
   "metadata": {},
   "outputs": [],
   "source": [
    "soup = BeautifulSoup(response.content, \"html.parser\")"
   ]
  },
  {
   "cell_type": "code",
   "execution_count": null,
   "id": "25381226",
   "metadata": {},
   "outputs": [],
   "source": [
    "soup"
   ]
  },
  {
   "cell_type": "code",
   "execution_count": null,
   "id": "6e3de5e1",
   "metadata": {},
   "outputs": [],
   "source": [
    "print(soup.prettify())"
   ]
  },
  {
   "cell_type": "code",
   "execution_count": null,
   "id": "5c6ef9aa",
   "metadata": {},
   "outputs": [],
   "source": [
    "soup.select(\"td:nth-child(2) > a\")"
   ]
  },
  {
   "cell_type": "code",
   "execution_count": 8,
   "id": "f5ebbd0b",
   "metadata": {},
   "outputs": [
    {
     "data": {
      "text/plain": [
       "'\\nDua Lipa & DaBaby\\n'"
      ]
     },
     "execution_count": 8,
     "metadata": {},
     "output_type": "execute_result"
    }
   ],
   "source": [
    "soup.select(\"td:nth-child(2) > a\")[0].get_text()"
   ]
  },
  {
   "cell_type": "code",
   "execution_count": 9,
   "id": "da6d4799",
   "metadata": {},
   "outputs": [],
   "source": [
    "#myTable > tbody > tr:nth-child(1) > td:nth-child(2) > span"
   ]
  },
  {
   "cell_type": "code",
   "execution_count": 10,
   "id": "55190149",
   "metadata": {},
   "outputs": [
    {
     "data": {
      "text/plain": [
       "'Levitating'"
      ]
     },
     "execution_count": 10,
     "metadata": {},
     "output_type": "execute_result"
    }
   ],
   "source": [
    "soup.select(\"td.mobile-hide > a > span.song\")[0].get_text()"
   ]
  },
  {
   "cell_type": "code",
   "execution_count": 11,
   "id": "1d9ea59f",
   "metadata": {},
   "outputs": [
    {
     "data": {
      "text/plain": [
       "'\\nDua Lipa & DaBaby\\n'"
      ]
     },
     "execution_count": 11,
     "metadata": {},
     "output_type": "execute_result"
    }
   ],
   "source": [
    "soup.select(\"td:nth-child(2) > a\")[0].get_text()"
   ]
  },
  {
   "cell_type": "markdown",
   "id": "15a58033",
   "metadata": {},
   "source": [
    "# put the artist and song names into a dataframe"
   ]
  },
  {
   "cell_type": "code",
   "execution_count": 12,
   "id": "f7160877",
   "metadata": {},
   "outputs": [
    {
     "name": "stdout",
     "output_type": "stream",
     "text": [
      "['\\nDua Lipa & DaBaby\\n', '\\nOlivia Rodrigo\\n', '\\nThe Weeknd & Ariana Grande\\n', '\\nLil Nas X\\n', '\\nThe Weeknd\\n', '\\nOlivia Rodrigo\\n', '\\n24kGoldn featuring iann dior\\n', '\\nJustin Bieber featuring Daniel Caesar & Giveon\\n', '\\nSilk Sonic\\n', '\\nMasked Wolf\\n', '\\nDoja Cat featuring SZA\\n', '\\nThe Kid Laroi & Justin Bieber\\n', '\\nAdele\\n', '\\nBTS\\n', '\\nThe Kid LAROI\\n', '\\nOlivia Rodrigo\\n', '\\nPolo G\\n', '\\nAriana Grande\\n', '\\nCardi B\\n', '\\nPop Smoke\\n', '\\nEd Sheeran\\n', '\\nLil Tjay featuring 6LACK\\n', '\\nGlass Animals\\n', '\\nLil Nas X & Jack Harlow\\n', '\\nChris Brown & Young Thug\\n', '\\nTate McRae\\n', '\\nCJ\\n', '\\nBillie Eilish\\n', '\\nLuke Combs\\n', '\\nAriana Grande Feat. Doja Cat & Megan Thee Stallion\\n', '\\nDrake\\n', '\\nSaweetie featuring Doja Cat\\n', '\\nMachine Gun Kelly & BLACKBEAR\\n', '\\nBad Bunny & Jhay Cortez\\n', '\\nSZA\\n', '\\nJustin Bieber\\n', '\\nDrake featuring Lil Baby\\n', '\\nMariah Carey\\n', '\\nGiveon\\n ', '\\nDrake featuring Future & Young Thug\\n', '\\nWalker Hayes\\n', '\\nPop Smoke featuring Lil Baby & DaBaby\\n', '\\nLil Baby\\n', '\\nPooh Shiesty featuring Lil Durk\\n', '\\nMaroon 5 featuring Megan Thee Stallion\\n', '\\nColdplay & BTS\\n', '\\nJustin Bieber featuring Chance The Rapper\\n', '\\nSpotemGottem featuring Pooh Shiesty\\n', '\\nDoja Cat\\n', '\\nBTS\\n', '\\nOlivia Rodrigo\\n', '\\nTaylor Swift\\n', '\\nGabby Barrett featuring Charlie Puth\\n', '\\nTiesto\\n', '\\nKali Uchis\\n', '\\nYung Bleu featuring Drake\\n', '\\nDoja Cat\\n', '\\nChris Stapleton\\n', '\\nBrenda Lee\\n', '\\nDrake featuring Lil Durk\\n', '\\nMegan Thee Stallion\\n', '\\nDoja Cat & The Weeknd\\n', '\\nGabby Barrett\\n', '\\nLuke Combs\\n', '\\nDua Lipa\\n', '\\nJustin Bieber & Benny Blanco\\n', '\\nAJR\\n', '\\nMooski\\n', '\\nThomas Rhett\\n', '\\nCoi Leray featuring Lil Durk\\n', '\\nMoneybagg Yo\\n', '\\nWizkid featuring Justin Bieber & Tems\\n', '\\nDan & Shay\\n', '\\nDuncan Laurence\\n', '\\nThe Weeknd\\n', '\\nDrake\\n', '\\nMegan Thee Stallion featuring DaBaby\\n', '\\nEric Church\\n', '\\nKeith Urban Duet With P!nk\\n', '\\nDrake featuring 21 Savage & Project Pat\\n', '\\nAva Max\\n', '\\nParmalee & Blanco Brown\\n', '\\nNiko Moon\\n', '\\nBillie Eilish\\n', '\\nRitt Momney\\n', '\\nBad Bunny\\n', '\\nEd Sheeran\\n', '\\nMoneybagg Yo\\n', '\\nRod Wave\\n', '\\nInternet Money & Gunna featuring Don Toliver & NAV\\n', '\\nDrake\\n', '\\nMorgan Wallen\\n', '\\nAdele\\n', '\\nDJ Khaled featuring Lil Baby & Lil Durk\\n', '\\nRyan Hurd With Maren Morris\\n', '\\nMarshmello & Jonas Brothers\\n', '\\nManeskin\\n', '\\nChris Young + Kane Brown\\n', '\\nNelly & Florida Georgia Line\\n', '\\nMegan Thee Stallion\\n']\n",
      "['Levitating', 'Drivers License', 'Save Your Tears', 'Montero (Call Me by Your Name)', 'Blinding Lights', 'Good 4 U', 'Mood', 'Peaches', 'Leave the Door Open', 'Astronaut in the Ocean', 'Kiss Me More', 'Stay', 'Easy on Me', 'Butter', 'Without You', 'Deja Vu', 'Rapstar', 'Positions', 'Up', 'What You Know Bout Love', 'Bad Habits', 'Calling My Phone', 'Heat Waves', 'Industry Baby', 'Go Crazy', 'You Broke Me First', 'Whoopty', 'Therefore I Am', 'Forever After All', '34+35', \"What's Next\", 'Best Friend', \"My Ex's Best Friend\", 'Dakiti', 'Good Days', 'Anyone', 'Wants and Needs', 'All I Want for Christmas Is You', 'Heartbreak Anniversary', 'Way 2 Sexy', 'Fancy Like', 'For the Night', 'On Me', 'Back In Blood', 'Beautiful Mistakes', 'My Universe', 'Holy', 'Beat Box', 'Streets', 'Dynamite', 'Traitor', 'Willow', 'I Hope', 'The Business', 'Telepatia', \"You're Mines Still\", 'Need to Know', 'Starting Over', \"Rockin' Around the Christmas Tree\", 'Laugh Now Cry Later', 'Body', 'You Right', 'The Good Ones', 'Better Together', \"We're Good\", 'Lonely', 'Bang!', 'Track Star', \"What's Your Country Song\", 'No More Parties', 'Time Today', 'Essence', 'Glad You Exist', 'Arcade', 'Take My Breath', 'Girls Want Girls', 'Cry Baby', 'Hell Of A View', 'One Too Many', 'Knife Talk', 'Kings & Queens', 'Just The Way', 'Good Time', 'Happier Than Ever', 'Put Your Records On', 'Yonaguni', 'Shivers', 'Wockesha', 'Tombstone', 'Lemonade', 'Fair Trade', 'Wasted on You', 'Oh My God', 'Every Chance I Get', 'Chasing After You', 'Leave Before You Love Me', 'Beggin', 'Famous Friends', 'Lil Bit', 'Thot Shit']\n"
     ]
    }
   ],
   "source": [
    "artist = []\n",
    "song = []\n",
    "\n",
    "\n",
    "# define the number of iterations of our for loop\n",
    "# by checking how many elements are in the retrieved result set\n",
    "\n",
    "num_iter = len(soup.select(\"td:nth-child(2) > a\"))\n",
    "\n",
    "a_list = soup.select(\"td:nth-child(2) > a\")\n",
    "s_list = soup.select(\"td.mobile-hide > a > span.song\")\n",
    "# iterate through the result set and retrive all the data\n",
    "for i in range(num_iter):\n",
    "    artist.append(a_list[i].get_text())\n",
    "    song.append(s_list[i].get_text())\n",
    "\n",
    "print(artist)\n",
    "print(song)"
   ]
  },
  {
   "cell_type": "code",
   "execution_count": 13,
   "id": "19c07897",
   "metadata": {},
   "outputs": [
    {
     "data": {
      "text/plain": [
       "'\\nDua Lipa & DaBaby\\n'"
      ]
     },
     "execution_count": 13,
     "metadata": {},
     "output_type": "execute_result"
    }
   ],
   "source": [
    "artist[0]"
   ]
  },
  {
   "cell_type": "code",
   "execution_count": 14,
   "id": "f1ae5103",
   "metadata": {},
   "outputs": [
    {
     "data": {
      "text/plain": [
       "'Levitating'"
      ]
     },
     "execution_count": 14,
     "metadata": {},
     "output_type": "execute_result"
    }
   ],
   "source": [
    "song[0]"
   ]
  },
  {
   "cell_type": "code",
   "execution_count": 15,
   "id": "e6be2f75",
   "metadata": {},
   "outputs": [],
   "source": [
    "song_singers = pd.DataFrame({\"artist\":artist, \"song\":song})"
   ]
  },
  {
   "cell_type": "code",
   "execution_count": 16,
   "id": "f9f2f4ee",
   "metadata": {},
   "outputs": [
    {
     "data": {
      "text/html": [
       "<div>\n",
       "<style scoped>\n",
       "    .dataframe tbody tr th:only-of-type {\n",
       "        vertical-align: middle;\n",
       "    }\n",
       "\n",
       "    .dataframe tbody tr th {\n",
       "        vertical-align: top;\n",
       "    }\n",
       "\n",
       "    .dataframe thead th {\n",
       "        text-align: right;\n",
       "    }\n",
       "</style>\n",
       "<table border=\"1\" class=\"dataframe\">\n",
       "  <thead>\n",
       "    <tr style=\"text-align: right;\">\n",
       "      <th></th>\n",
       "      <th>artist</th>\n",
       "      <th>song</th>\n",
       "    </tr>\n",
       "  </thead>\n",
       "  <tbody>\n",
       "    <tr>\n",
       "      <th>0</th>\n",
       "      <td>\\nDua Lipa &amp; DaBaby\\n</td>\n",
       "      <td>Levitating</td>\n",
       "    </tr>\n",
       "    <tr>\n",
       "      <th>1</th>\n",
       "      <td>\\nOlivia Rodrigo\\n</td>\n",
       "      <td>Drivers License</td>\n",
       "    </tr>\n",
       "    <tr>\n",
       "      <th>2</th>\n",
       "      <td>\\nThe Weeknd &amp; Ariana Grande\\n</td>\n",
       "      <td>Save Your Tears</td>\n",
       "    </tr>\n",
       "    <tr>\n",
       "      <th>3</th>\n",
       "      <td>\\nLil Nas X\\n</td>\n",
       "      <td>Montero (Call Me by Your Name)</td>\n",
       "    </tr>\n",
       "    <tr>\n",
       "      <th>4</th>\n",
       "      <td>\\nThe Weeknd\\n</td>\n",
       "      <td>Blinding Lights</td>\n",
       "    </tr>\n",
       "  </tbody>\n",
       "</table>\n",
       "</div>"
      ],
      "text/plain": [
       "                           artist                            song\n",
       "0           \\nDua Lipa & DaBaby\\n                      Levitating\n",
       "1              \\nOlivia Rodrigo\\n                 Drivers License\n",
       "2  \\nThe Weeknd & Ariana Grande\\n                 Save Your Tears\n",
       "3                   \\nLil Nas X\\n  Montero (Call Me by Your Name)\n",
       "4                  \\nThe Weeknd\\n                 Blinding Lights"
      ]
     },
     "execution_count": 16,
     "metadata": {},
     "output_type": "execute_result"
    }
   ],
   "source": [
    "song_singers.head()"
   ]
  },
  {
   "cell_type": "markdown",
   "id": "0f23c26e",
   "metadata": {},
   "source": [
    "# clean the dataframe "
   ]
  },
  {
   "cell_type": "code",
   "execution_count": 17,
   "id": "da5f4a29",
   "metadata": {},
   "outputs": [],
   "source": [
    "song_singers['artist'] = song_singers['artist'].str.replace('\\n', ' ')"
   ]
  },
  {
   "cell_type": "code",
   "execution_count": 18,
   "id": "f68168d4",
   "metadata": {},
   "outputs": [
    {
     "data": {
      "text/html": [
       "<div>\n",
       "<style scoped>\n",
       "    .dataframe tbody tr th:only-of-type {\n",
       "        vertical-align: middle;\n",
       "    }\n",
       "\n",
       "    .dataframe tbody tr th {\n",
       "        vertical-align: top;\n",
       "    }\n",
       "\n",
       "    .dataframe thead th {\n",
       "        text-align: right;\n",
       "    }\n",
       "</style>\n",
       "<table border=\"1\" class=\"dataframe\">\n",
       "  <thead>\n",
       "    <tr style=\"text-align: right;\">\n",
       "      <th></th>\n",
       "      <th>artist</th>\n",
       "      <th>song</th>\n",
       "    </tr>\n",
       "  </thead>\n",
       "  <tbody>\n",
       "    <tr>\n",
       "      <th>0</th>\n",
       "      <td>Dua Lipa &amp; DaBaby</td>\n",
       "      <td>Levitating</td>\n",
       "    </tr>\n",
       "    <tr>\n",
       "      <th>1</th>\n",
       "      <td>Olivia Rodrigo</td>\n",
       "      <td>Drivers License</td>\n",
       "    </tr>\n",
       "    <tr>\n",
       "      <th>2</th>\n",
       "      <td>The Weeknd &amp; Ariana Grande</td>\n",
       "      <td>Save Your Tears</td>\n",
       "    </tr>\n",
       "    <tr>\n",
       "      <th>3</th>\n",
       "      <td>Lil Nas X</td>\n",
       "      <td>Montero (Call Me by Your Name)</td>\n",
       "    </tr>\n",
       "    <tr>\n",
       "      <th>4</th>\n",
       "      <td>The Weeknd</td>\n",
       "      <td>Blinding Lights</td>\n",
       "    </tr>\n",
       "  </tbody>\n",
       "</table>\n",
       "</div>"
      ],
      "text/plain": [
       "                         artist                            song\n",
       "0            Dua Lipa & DaBaby                       Levitating\n",
       "1               Olivia Rodrigo                  Drivers License\n",
       "2   The Weeknd & Ariana Grande                  Save Your Tears\n",
       "3                    Lil Nas X   Montero (Call Me by Your Name)\n",
       "4                   The Weeknd                  Blinding Lights"
      ]
     },
     "execution_count": 18,
     "metadata": {},
     "output_type": "execute_result"
    }
   ],
   "source": [
    "song_singers.head()"
   ]
  },
  {
   "cell_type": "markdown",
   "id": "f1f48865",
   "metadata": {},
   "source": [
    "# compare the dataframe with an input\n",
    "asking user for a song as an input, if the input is in our data\n",
    "we give back a random song back from the data, if not then we say that 'sorry we don't have a song recommendation'"
   ]
  },
  {
   "cell_type": "code",
   "execution_count": 19,
   "id": "9a8a2d1c",
   "metadata": {},
   "outputs": [
    {
     "name": "stdout",
     "output_type": "stream",
     "text": [
      "Enter your song: you\n",
      "you\n"
     ]
    }
   ],
   "source": [
    "song_of_the_user = input(\"Enter your song: \")\n",
    "print(song_of_the_user)"
   ]
  },
  {
   "cell_type": "code",
   "execution_count": 20,
   "id": "041aebcf",
   "metadata": {},
   "outputs": [
    {
     "name": "stdout",
     "output_type": "stream",
     "text": [
      "82    Good Time\n",
      "Name: song, dtype: object\n"
     ]
    }
   ],
   "source": [
    "print(song_singers['song'].sample())"
   ]
  },
  {
   "cell_type": "code",
   "execution_count": 21,
   "id": "cea0324e",
   "metadata": {},
   "outputs": [
    {
     "data": {
      "text/plain": [
       "False"
      ]
     },
     "execution_count": 21,
     "metadata": {},
     "output_type": "execute_result"
    }
   ],
   "source": [
    "song_singers['song'].str.match(song_of_the_user).any()\n"
   ]
  },
  {
   "cell_type": "code",
   "execution_count": 22,
   "id": "69db47b0",
   "metadata": {},
   "outputs": [
    {
     "name": "stdout",
     "output_type": "stream",
     "text": [
      "We are sorry that we do not have a song recommendation for you now.\n"
     ]
    }
   ],
   "source": [
    "if song_singers['song'].str.match(song_of_the_user).any() == True:\n",
    "    print(song_singers['song'].sample())\n",
    "else:\n",
    "    print(\"We are sorry that we do not have a song recommendation for you now.\")"
   ]
  },
  {
   "cell_type": "markdown",
   "id": "a5689b86",
   "metadata": {},
   "source": [
    "# write a function for easy web scraping from the top song websites"
   ]
  },
  {
   "cell_type": "code",
   "execution_count": 23,
   "id": "80b7b8bf",
   "metadata": {},
   "outputs": [],
   "source": [
    "def webscraper(url):\n",
    "    any_response = requests.get(url)\n",
    "    any_soup = BeautifulSoup(any_response.content, 'html.parser')\n",
    "    artist = []\n",
    "    song = []\n",
    "    num_iters = len(any_soup.select('td:nth-child(2) > a'))\n",
    "    a_list = any_soup.select('td:nth-child(2) > a')\n",
    "    s_list = any_soup.select('td.mobile-hide > a > span.song')\n",
    "    for i in range(num_iters):\n",
    "        artist.append(a_list[i].get_text())\n",
    "        song.append(s_list[i].get_text())\n",
    "    test = pd.DataFrame({'artist':artist,'song':song})\n",
    "    return test\n",
    "\n",
    "url1 = 'https://playback.fm/charts/rnb/2017'\n",
    "url2 = 'https://playback.fm/charts/rnb/2021'\n",
    "top_2017 = webscraper(url1)\n",
    "top_2021 = webscraper(url2)\n"
   ]
  },
  {
   "cell_type": "code",
   "execution_count": 24,
   "id": "eefcfdf2",
   "metadata": {},
   "outputs": [],
   "source": [
    "songs_list = pd.concat([top_2017, top_2021], ignore_index=True)"
   ]
  },
  {
   "cell_type": "code",
   "execution_count": 25,
   "id": "f2dca3a1",
   "metadata": {},
   "outputs": [
    {
     "data": {
      "text/html": [
       "<div>\n",
       "<style scoped>\n",
       "    .dataframe tbody tr th:only-of-type {\n",
       "        vertical-align: middle;\n",
       "    }\n",
       "\n",
       "    .dataframe tbody tr th {\n",
       "        vertical-align: top;\n",
       "    }\n",
       "\n",
       "    .dataframe thead th {\n",
       "        text-align: right;\n",
       "    }\n",
       "</style>\n",
       "<table border=\"1\" class=\"dataframe\">\n",
       "  <thead>\n",
       "    <tr style=\"text-align: right;\">\n",
       "      <th></th>\n",
       "      <th>artist</th>\n",
       "      <th>song</th>\n",
       "    </tr>\n",
       "  </thead>\n",
       "  <tbody>\n",
       "    <tr>\n",
       "      <th>0</th>\n",
       "      <td>\\nBruno Mars\\n</td>\n",
       "      <td>That's What I Like</td>\n",
       "    </tr>\n",
       "    <tr>\n",
       "      <th>1</th>\n",
       "      <td>\\nDJ Khaled featuring Rihanna &amp; Bryson Tiller\\n</td>\n",
       "      <td>Wild Thoughts</td>\n",
       "    </tr>\n",
       "    <tr>\n",
       "      <th>2</th>\n",
       "      <td>\\nPost Malone\\n</td>\n",
       "      <td>Rockstar</td>\n",
       "    </tr>\n",
       "    <tr>\n",
       "      <th>3</th>\n",
       "      <td>\\nDJ Khaled\\n</td>\n",
       "      <td>I'm the One</td>\n",
       "    </tr>\n",
       "    <tr>\n",
       "      <th>4</th>\n",
       "      <td>\\nBruno Mars\\n</td>\n",
       "      <td>24K Magic</td>\n",
       "    </tr>\n",
       "    <tr>\n",
       "      <th>...</th>\n",
       "      <td>...</td>\n",
       "      <td>...</td>\n",
       "    </tr>\n",
       "    <tr>\n",
       "      <th>195</th>\n",
       "      <td>\\nDrake featuring Lil Baby\\n</td>\n",
       "      <td>Wants And Needs</td>\n",
       "    </tr>\n",
       "    <tr>\n",
       "      <th>196</th>\n",
       "      <td>\\nSummer Walker\\n</td>\n",
       "      <td>Broken Promises</td>\n",
       "    </tr>\n",
       "    <tr>\n",
       "      <th>197</th>\n",
       "      <td>\\nMegan Thee Stallion\\n</td>\n",
       "      <td>Body</td>\n",
       "    </tr>\n",
       "    <tr>\n",
       "      <th>198</th>\n",
       "      <td>\\nYoungBoy Never Broke Again\\n</td>\n",
       "      <td>Nevada</td>\n",
       "    </tr>\n",
       "    <tr>\n",
       "      <th>199</th>\n",
       "      <td>\\nSpotemGottem featuring Pooh Shiesty Or DaBaby\\n</td>\n",
       "      <td>Beat Box</td>\n",
       "    </tr>\n",
       "  </tbody>\n",
       "</table>\n",
       "<p>200 rows × 2 columns</p>\n",
       "</div>"
      ],
      "text/plain": [
       "                                                artist                song\n",
       "0                                       \\nBruno Mars\\n  That's What I Like\n",
       "1      \\nDJ Khaled featuring Rihanna & Bryson Tiller\\n       Wild Thoughts\n",
       "2                                      \\nPost Malone\\n            Rockstar\n",
       "3                                        \\nDJ Khaled\\n         I'm the One\n",
       "4                                       \\nBruno Mars\\n           24K Magic\n",
       "..                                                 ...                 ...\n",
       "195                       \\nDrake featuring Lil Baby\\n     Wants And Needs\n",
       "196                                  \\nSummer Walker\\n     Broken Promises\n",
       "197                            \\nMegan Thee Stallion\\n                Body\n",
       "198                     \\nYoungBoy Never Broke Again\\n              Nevada\n",
       "199  \\nSpotemGottem featuring Pooh Shiesty Or DaBaby\\n            Beat Box\n",
       "\n",
       "[200 rows x 2 columns]"
      ]
     },
     "execution_count": 25,
     "metadata": {},
     "output_type": "execute_result"
    }
   ],
   "source": [
    "songs_list"
   ]
  },
  {
   "cell_type": "code",
   "execution_count": 26,
   "id": "c2994913",
   "metadata": {},
   "outputs": [],
   "source": [
    "songs_list.artist = songs_list.artist.str.replace('\\n', ' ')"
   ]
  },
  {
   "cell_type": "code",
   "execution_count": 64,
   "id": "69af7eff",
   "metadata": {},
   "outputs": [
    {
     "data": {
      "text/html": [
       "<div>\n",
       "<style scoped>\n",
       "    .dataframe tbody tr th:only-of-type {\n",
       "        vertical-align: middle;\n",
       "    }\n",
       "\n",
       "    .dataframe tbody tr th {\n",
       "        vertical-align: top;\n",
       "    }\n",
       "\n",
       "    .dataframe thead th {\n",
       "        text-align: right;\n",
       "    }\n",
       "</style>\n",
       "<table border=\"1\" class=\"dataframe\">\n",
       "  <thead>\n",
       "    <tr style=\"text-align: right;\">\n",
       "      <th></th>\n",
       "      <th>artist</th>\n",
       "      <th>song</th>\n",
       "    </tr>\n",
       "  </thead>\n",
       "  <tbody>\n",
       "    <tr>\n",
       "      <th>0</th>\n",
       "      <td>Bruno Mars</td>\n",
       "      <td>That's What I Like</td>\n",
       "    </tr>\n",
       "    <tr>\n",
       "      <th>1</th>\n",
       "      <td>DJ Khaled featuring Rihanna &amp; Bryson Tiller</td>\n",
       "      <td>Wild Thoughts</td>\n",
       "    </tr>\n",
       "    <tr>\n",
       "      <th>2</th>\n",
       "      <td>Post Malone</td>\n",
       "      <td>Rockstar</td>\n",
       "    </tr>\n",
       "    <tr>\n",
       "      <th>3</th>\n",
       "      <td>DJ Khaled</td>\n",
       "      <td>I'm the One</td>\n",
       "    </tr>\n",
       "    <tr>\n",
       "      <th>4</th>\n",
       "      <td>Bruno Mars</td>\n",
       "      <td>24K Magic</td>\n",
       "    </tr>\n",
       "    <tr>\n",
       "      <th>...</th>\n",
       "      <td>...</td>\n",
       "      <td>...</td>\n",
       "    </tr>\n",
       "    <tr>\n",
       "      <th>195</th>\n",
       "      <td>Drake featuring Lil Baby</td>\n",
       "      <td>Wants And Needs</td>\n",
       "    </tr>\n",
       "    <tr>\n",
       "      <th>196</th>\n",
       "      <td>Summer Walker</td>\n",
       "      <td>Broken Promises</td>\n",
       "    </tr>\n",
       "    <tr>\n",
       "      <th>197</th>\n",
       "      <td>Megan Thee Stallion</td>\n",
       "      <td>Body</td>\n",
       "    </tr>\n",
       "    <tr>\n",
       "      <th>198</th>\n",
       "      <td>YoungBoy Never Broke Again</td>\n",
       "      <td>Nevada</td>\n",
       "    </tr>\n",
       "    <tr>\n",
       "      <th>199</th>\n",
       "      <td>SpotemGottem featuring Pooh Shiesty Or DaBaby</td>\n",
       "      <td>Beat Box</td>\n",
       "    </tr>\n",
       "  </tbody>\n",
       "</table>\n",
       "<p>200 rows × 2 columns</p>\n",
       "</div>"
      ],
      "text/plain": [
       "                                              artist                song\n",
       "0                                        Bruno Mars   That's What I Like\n",
       "1       DJ Khaled featuring Rihanna & Bryson Tiller        Wild Thoughts\n",
       "2                                       Post Malone             Rockstar\n",
       "3                                         DJ Khaled          I'm the One\n",
       "4                                        Bruno Mars            24K Magic\n",
       "..                                               ...                 ...\n",
       "195                        Drake featuring Lil Baby      Wants And Needs\n",
       "196                                   Summer Walker      Broken Promises\n",
       "197                             Megan Thee Stallion                 Body\n",
       "198                      YoungBoy Never Broke Again               Nevada\n",
       "199   SpotemGottem featuring Pooh Shiesty Or DaBaby             Beat Box\n",
       "\n",
       "[200 rows x 2 columns]"
      ]
     },
     "execution_count": 64,
     "metadata": {},
     "output_type": "execute_result"
    }
   ],
   "source": [
    "songs_list"
   ]
  },
  {
   "cell_type": "code",
   "execution_count": null,
   "id": "7d9fbf73",
   "metadata": {},
   "outputs": [],
   "source": []
  },
  {
   "cell_type": "code",
   "execution_count": null,
   "id": "ed43ee34",
   "metadata": {},
   "outputs": [],
   "source": [
    "# Concat the 3 playlist all together and run the function above again"
   ]
  },
  {
   "cell_type": "code",
   "execution_count": 65,
   "id": "94cf60df",
   "metadata": {},
   "outputs": [],
   "source": [
    "top_300_songs = pd.concat([song_singers,songs_list])\n"
   ]
  },
  {
   "cell_type": "code",
   "execution_count": 66,
   "id": "3b5fd161",
   "metadata": {},
   "outputs": [
    {
     "data": {
      "text/html": [
       "<div>\n",
       "<style scoped>\n",
       "    .dataframe tbody tr th:only-of-type {\n",
       "        vertical-align: middle;\n",
       "    }\n",
       "\n",
       "    .dataframe tbody tr th {\n",
       "        vertical-align: top;\n",
       "    }\n",
       "\n",
       "    .dataframe thead th {\n",
       "        text-align: right;\n",
       "    }\n",
       "</style>\n",
       "<table border=\"1\" class=\"dataframe\">\n",
       "  <thead>\n",
       "    <tr style=\"text-align: right;\">\n",
       "      <th></th>\n",
       "      <th>artist</th>\n",
       "      <th>song</th>\n",
       "    </tr>\n",
       "  </thead>\n",
       "  <tbody>\n",
       "    <tr>\n",
       "      <th>0</th>\n",
       "      <td>Dua Lipa &amp; DaBaby</td>\n",
       "      <td>Levitating</td>\n",
       "    </tr>\n",
       "    <tr>\n",
       "      <th>1</th>\n",
       "      <td>Olivia Rodrigo</td>\n",
       "      <td>Drivers License</td>\n",
       "    </tr>\n",
       "    <tr>\n",
       "      <th>2</th>\n",
       "      <td>The Weeknd &amp; Ariana Grande</td>\n",
       "      <td>Save Your Tears</td>\n",
       "    </tr>\n",
       "    <tr>\n",
       "      <th>3</th>\n",
       "      <td>Lil Nas X</td>\n",
       "      <td>Montero (Call Me by Your Name)</td>\n",
       "    </tr>\n",
       "    <tr>\n",
       "      <th>4</th>\n",
       "      <td>The Weeknd</td>\n",
       "      <td>Blinding Lights</td>\n",
       "    </tr>\n",
       "    <tr>\n",
       "      <th>...</th>\n",
       "      <td>...</td>\n",
       "      <td>...</td>\n",
       "    </tr>\n",
       "    <tr>\n",
       "      <th>195</th>\n",
       "      <td>Drake featuring Lil Baby</td>\n",
       "      <td>Wants And Needs</td>\n",
       "    </tr>\n",
       "    <tr>\n",
       "      <th>196</th>\n",
       "      <td>Summer Walker</td>\n",
       "      <td>Broken Promises</td>\n",
       "    </tr>\n",
       "    <tr>\n",
       "      <th>197</th>\n",
       "      <td>Megan Thee Stallion</td>\n",
       "      <td>Body</td>\n",
       "    </tr>\n",
       "    <tr>\n",
       "      <th>198</th>\n",
       "      <td>YoungBoy Never Broke Again</td>\n",
       "      <td>Nevada</td>\n",
       "    </tr>\n",
       "    <tr>\n",
       "      <th>199</th>\n",
       "      <td>SpotemGottem featuring Pooh Shiesty Or DaBaby</td>\n",
       "      <td>Beat Box</td>\n",
       "    </tr>\n",
       "  </tbody>\n",
       "</table>\n",
       "<p>300 rows × 2 columns</p>\n",
       "</div>"
      ],
      "text/plain": [
       "                                              artist  \\\n",
       "0                                 Dua Lipa & DaBaby    \n",
       "1                                    Olivia Rodrigo    \n",
       "2                        The Weeknd & Ariana Grande    \n",
       "3                                         Lil Nas X    \n",
       "4                                        The Weeknd    \n",
       "..                                               ...   \n",
       "195                        Drake featuring Lil Baby    \n",
       "196                                   Summer Walker    \n",
       "197                             Megan Thee Stallion    \n",
       "198                      YoungBoy Never Broke Again    \n",
       "199   SpotemGottem featuring Pooh Shiesty Or DaBaby    \n",
       "\n",
       "                               song  \n",
       "0                        Levitating  \n",
       "1                   Drivers License  \n",
       "2                   Save Your Tears  \n",
       "3    Montero (Call Me by Your Name)  \n",
       "4                   Blinding Lights  \n",
       "..                              ...  \n",
       "195                 Wants And Needs  \n",
       "196                 Broken Promises  \n",
       "197                            Body  \n",
       "198                          Nevada  \n",
       "199                        Beat Box  \n",
       "\n",
       "[300 rows x 2 columns]"
      ]
     },
     "execution_count": 66,
     "metadata": {},
     "output_type": "execute_result"
    }
   ],
   "source": [
    "top_300_songs "
   ]
  },
  {
   "cell_type": "code",
   "execution_count": null,
   "id": "3d975a28",
   "metadata": {},
   "outputs": [],
   "source": [
    "# ask a user for a song, if the song is in the top_300 songs list\n",
    "# then suggest another song from the list. If not, say \"sorry\""
   ]
  },
  {
   "cell_type": "code",
   "execution_count": 69,
   "id": "d20066b5",
   "metadata": {},
   "outputs": [
    {
     "name": "stdout",
     "output_type": "stream",
     "text": [
      "Enter your song: Nevada\n",
      "Nevada\n"
     ]
    }
   ],
   "source": [
    "song_of_the_user = input(\"Enter your song: \")\n",
    "print(song_of_the_user)"
   ]
  },
  {
   "cell_type": "code",
   "execution_count": 70,
   "id": "745732cc",
   "metadata": {},
   "outputs": [
    {
     "name": "stdout",
     "output_type": "stream",
     "text": [
      "11    Passionfruit\n",
      "Name: song, dtype: object\n"
     ]
    }
   ],
   "source": [
    "if top_300_songs['song'].str.match(song_of_the_user).any() == True:\n",
    "    print(top_300_songs['song'].sample())\n",
    "else:\n",
    "    print(\"We are sorry that we do not have a song recommendation for you now.\")"
   ]
  },
  {
   "cell_type": "code",
   "execution_count": null,
   "id": "987be375",
   "metadata": {},
   "outputs": [],
   "source": []
  },
  {
   "cell_type": "markdown",
   "id": "dd7068fe",
   "metadata": {},
   "source": [
    "# Practice web scraping"
   ]
  },
  {
   "cell_type": "code",
   "execution_count": 27,
   "id": "11318b77",
   "metadata": {},
   "outputs": [],
   "source": [
    "# Retrieve an arbitrary Wikipedia page of \"Python\" and create a list of links on that page: \n",
    "# url ='https://en.wikipedia.org/wiki/Python'"
   ]
  },
  {
   "cell_type": "code",
   "execution_count": 28,
   "id": "242a3816",
   "metadata": {},
   "outputs": [],
   "source": [
    "url ='https://en.wikipedia.org/wiki/Python'\n",
    "any_response = requests.get(url)\n",
    "any_soup = BeautifulSoup(any_response.content, 'html.parser')"
   ]
  },
  {
   "cell_type": "code",
   "execution_count": 29,
   "id": "6a7c22a6",
   "metadata": {},
   "outputs": [
    {
     "data": {
      "text/plain": [
       "200"
      ]
     },
     "execution_count": 29,
     "metadata": {},
     "output_type": "execute_result"
    }
   ],
   "source": [
    "any_response.status_code"
   ]
  },
  {
   "cell_type": "code",
   "execution_count": null,
   "id": "695af055",
   "metadata": {},
   "outputs": [],
   "source": [
    "print(any_soup.prettify())"
   ]
  },
  {
   "cell_type": "code",
   "execution_count": 31,
   "id": "6e760c7c",
   "metadata": {},
   "outputs": [
    {
     "data": {
      "text/plain": [
       "[<link href=\"/w/load.php?lang=en&amp;modules=ext.uls.interlanguage%7Cext.visualEditor.desktopArticleTarget.noscript%7Cext.wikimediaBadges%7Cskins.vector.styles.legacy%7Cwikibase.client.init&amp;only=styles&amp;skin=vector\" rel=\"stylesheet\"/>,\n",
       " <link href=\"/w/load.php?lang=en&amp;modules=site.styles&amp;only=styles&amp;skin=vector\" rel=\"stylesheet\"/>,\n",
       " <link href=\"//upload.wikimedia.org\" rel=\"preconnect\"/>,\n",
       " <link href=\"//en.m.wikipedia.org/wiki/Python\" media=\"only screen and (max-width: 720px)\" rel=\"alternate\"/>,\n",
       " <link href=\"/w/index.php?title=Python&amp;action=edit\" rel=\"alternate\" title=\"Edit this page\" type=\"application/x-wiki\"/>,\n",
       " <link href=\"/static/apple-touch/wikipedia.png\" rel=\"apple-touch-icon\"/>,\n",
       " <link href=\"/static/favicon/wikipedia.ico\" rel=\"icon\"/>,\n",
       " <link href=\"/w/opensearch_desc.php\" rel=\"search\" title=\"Wikipedia (en)\" type=\"application/opensearchdescription+xml\"/>,\n",
       " <link href=\"//en.wikipedia.org/w/api.php?action=rsd\" rel=\"EditURI\" type=\"application/rsd+xml\"/>,\n",
       " <link href=\"https://creativecommons.org/licenses/by-sa/3.0/\" rel=\"license\"/>,\n",
       " <link href=\"https://en.wikipedia.org/wiki/Python\" rel=\"canonical\"/>,\n",
       " <link href=\"//meta.wikimedia.org\" rel=\"dns-prefetch\"/>,\n",
       " <link href=\"//login.wikimedia.org\" rel=\"dns-prefetch\"/>]"
      ]
     },
     "execution_count": 31,
     "metadata": {},
     "output_type": "execute_result"
    }
   ],
   "source": [
    "any_soup.select('link')\n"
   ]
  },
  {
   "cell_type": "code",
   "execution_count": 32,
   "id": "35febfb1",
   "metadata": {},
   "outputs": [
    {
     "data": {
      "text/plain": [
       "'#mw-head'"
      ]
     },
     "execution_count": 32,
     "metadata": {},
     "output_type": "execute_result"
    }
   ],
   "source": [
    "any_soup.select('a')[1]['href']  "
   ]
  },
  {
   "cell_type": "code",
   "execution_count": null,
   "id": "eab7a59c",
   "metadata": {},
   "outputs": [],
   "source": [
    "any_soup.select('a')"
   ]
  },
  {
   "cell_type": "code",
   "execution_count": null,
   "id": "7e689048",
   "metadata": {},
   "outputs": [],
   "source": []
  },
  {
   "cell_type": "code",
   "execution_count": null,
   "id": "3057c718",
   "metadata": {},
   "outputs": [],
   "source": []
  },
  {
   "cell_type": "code",
   "execution_count": null,
   "id": "dbf869c3",
   "metadata": {},
   "outputs": [],
   "source": []
  },
  {
   "cell_type": "markdown",
   "id": "adee26b3",
   "metadata": {},
   "source": [
    "# Spotipy API"
   ]
  },
  {
   "cell_type": "code",
   "execution_count": 34,
   "id": "f79e4f3c",
   "metadata": {},
   "outputs": [],
   "source": [
    "import spotipy\n",
    "from spotipy.oauth2 import SpotifyClientCredentials"
   ]
  },
  {
   "cell_type": "code",
   "execution_count": 35,
   "id": "85212350",
   "metadata": {},
   "outputs": [],
   "source": [
    "secrets_file = open(\"secrets.txt\",\"r\")\n",
    "# open from python not from pandas, opening for reading 'r'"
   ]
  },
  {
   "cell_type": "code",
   "execution_count": 36,
   "id": "de5119fc",
   "metadata": {},
   "outputs": [],
   "source": [
    "string = secrets_file.read()"
   ]
  },
  {
   "cell_type": "code",
   "execution_count": null,
   "id": "17b0adbb",
   "metadata": {},
   "outputs": [],
   "source": [
    "string"
   ]
  },
  {
   "cell_type": "code",
   "execution_count": null,
   "id": "e0cefb93",
   "metadata": {},
   "outputs": [],
   "source": [
    "string.split('\\n')"
   ]
  },
  {
   "cell_type": "code",
   "execution_count": 39,
   "id": "2bfefdf2",
   "metadata": {},
   "outputs": [],
   "source": [
    "secrets_dict={}\n",
    "for line in string.split('\\n'):\n",
    "    if len(line) > 0:\n",
    "        secrets_dict[line.split(':')[0]]=line.split(':')[1].strip()"
   ]
  },
  {
   "cell_type": "code",
   "execution_count": null,
   "id": "c72dd1ee",
   "metadata": {},
   "outputs": [],
   "source": [
    "secrets_dict"
   ]
  },
  {
   "cell_type": "code",
   "execution_count": 41,
   "id": "41c23dda",
   "metadata": {},
   "outputs": [],
   "source": [
    "import spotipy\n",
    "from spotipy.oauth2 import SpotifyClientCredentials\n",
    "\n",
    "#Initialize SpotiPy with user credentials\n",
    "sp = spotipy.Spotify(auth_manager=SpotifyClientCredentials(client_id=secrets_dict['cid'],\n",
    "                                                           client_secret=secrets_dict['csecret']))\n"
   ]
  },
  {
   "cell_type": "markdown",
   "id": "cbf89f6e",
   "metadata": {},
   "source": [
    "# Handling large playlists"
   ]
  },
  {
   "cell_type": "code",
   "execution_count": 42,
   "id": "41f26f7a",
   "metadata": {},
   "outputs": [],
   "source": [
    "from random import randint\n",
    "from time import sleep\n",
    "\n",
    "def get_playlist_tracks(playlist_id):\n",
    "    results = sp.user_playlist_tracks(\"spotify\",playlist_id)\n",
    "    tracks = results['items']\n",
    "    while results['next']!=None:\n",
    "        results = sp.next(results)\n",
    "        tracks = tracks + results['items']\n",
    "        sleep(randint(1,3000)/3000)\n",
    "    return tracks"
   ]
  },
  {
   "cell_type": "markdown",
   "id": "1489f701",
   "metadata": {},
   "source": [
    "## Large playlist 1\n",
    "checking its structure, then taking the artist and song names\n"
   ]
  },
  {
   "cell_type": "code",
   "execution_count": 43,
   "id": "d3cb0fda",
   "metadata": {},
   "outputs": [
    {
     "data": {
      "text/plain": [
       "502"
      ]
     },
     "execution_count": 43,
     "metadata": {},
     "output_type": "execute_result"
    }
   ],
   "source": [
    "playlist1 = get_playlist_tracks(\"36f5MuoelMRwVIet1HUqYC\")\n",
    "len(playlist1)"
   ]
  },
  {
   "cell_type": "code",
   "execution_count": 44,
   "id": "93ad9a55",
   "metadata": {},
   "outputs": [
    {
     "data": {
      "text/plain": [
       "dict_keys(['album', 'artists', 'available_markets', 'disc_number', 'duration_ms', 'episode', 'explicit', 'external_ids', 'external_urls', 'href', 'id', 'is_local', 'name', 'popularity', 'preview_url', 'track', 'track_number', 'type', 'uri'])"
      ]
     },
     "execution_count": 44,
     "metadata": {},
     "output_type": "execute_result"
    }
   ],
   "source": [
    "playlist1[0]['track'].keys()"
   ]
  },
  {
   "cell_type": "code",
   "execution_count": null,
   "id": "c58d4a9e",
   "metadata": {},
   "outputs": [],
   "source": [
    "playlist1[0]['track']['album']\n",
    "\n",
    "# this album information holds both artist and song names"
   ]
  },
  {
   "cell_type": "code",
   "execution_count": 46,
   "id": "946245f6",
   "metadata": {},
   "outputs": [
    {
     "data": {
      "text/plain": [
       "dict_keys(['album_type', 'artists', 'available_markets', 'external_urls', 'href', 'id', 'images', 'name', 'release_date', 'release_date_precision', 'total_tracks', 'type', 'uri'])"
      ]
     },
     "execution_count": 46,
     "metadata": {},
     "output_type": "execute_result"
    }
   ],
   "source": [
    "playlist1[0]['track']['album'].keys()"
   ]
  },
  {
   "cell_type": "code",
   "execution_count": 47,
   "id": "e142e919",
   "metadata": {},
   "outputs": [
    {
     "data": {
      "text/plain": [
       "[{'external_urls': {'spotify': 'https://open.spotify.com/artist/4x1nvY2FN8jxqAFA0DA02H'},\n",
       "  'href': 'https://api.spotify.com/v1/artists/4x1nvY2FN8jxqAFA0DA02H',\n",
       "  'id': '4x1nvY2FN8jxqAFA0DA02H',\n",
       "  'name': 'John Lennon',\n",
       "  'type': 'artist',\n",
       "  'uri': 'spotify:artist:4x1nvY2FN8jxqAFA0DA02H'}]"
      ]
     },
     "execution_count": 47,
     "metadata": {},
     "output_type": "execute_result"
    }
   ],
   "source": [
    "playlist1[0]['track']['artists']"
   ]
  },
  {
   "cell_type": "code",
   "execution_count": 48,
   "id": "abd58488",
   "metadata": {},
   "outputs": [
    {
     "data": {
      "text/plain": [
       "'Imagine - Remastered 2010'"
      ]
     },
     "execution_count": 48,
     "metadata": {},
     "output_type": "execute_result"
    }
   ],
   "source": [
    "playlist1[0]['track']['name']"
   ]
  },
  {
   "cell_type": "code",
   "execution_count": 49,
   "id": "bffd038d",
   "metadata": {},
   "outputs": [],
   "source": [
    "def get_name_artist_from_playlist_item(playlist_item):\n",
    "    return get_name_artists_from_track(playlist_item['track'])"
   ]
  },
  {
   "cell_type": "code",
   "execution_count": 50,
   "id": "33886b68",
   "metadata": {},
   "outputs": [],
   "source": [
    "def get_name_artists_from_track(track):\n",
    "    return [(track[\"name\"],artist[\"name\"]) for artist in track[\"artists\"]]\n",
    "\n"
   ]
  },
  {
   "cell_type": "code",
   "execution_count": 53,
   "id": "2487e99f",
   "metadata": {},
   "outputs": [
    {
     "data": {
      "text/plain": [
       "[('Imagine', 'John Lennon')]"
      ]
     },
     "execution_count": 53,
     "metadata": {},
     "output_type": "execute_result"
    }
   ],
   "source": [
    "get_name_artists_from_track(my_track)"
   ]
  },
  {
   "cell_type": "code",
   "execution_count": 52,
   "id": "02285005",
   "metadata": {},
   "outputs": [],
   "source": [
    "my_track = playlist1[0]['track']['album']"
   ]
  },
  {
   "cell_type": "code",
   "execution_count": 54,
   "id": "8cdce3d2",
   "metadata": {},
   "outputs": [],
   "source": [
    "my_track2 = playlist1[1]['track']['album']"
   ]
  },
  {
   "cell_type": "code",
   "execution_count": 55,
   "id": "3efff061",
   "metadata": {},
   "outputs": [
    {
     "data": {
      "text/plain": [
       "[('A Whiter Shade Of Pale', 'Procol Harum')]"
      ]
     },
     "execution_count": 55,
     "metadata": {},
     "output_type": "execute_result"
    }
   ],
   "source": [
    "get_name_artists_from_track(my_track2)"
   ]
  },
  {
   "cell_type": "code",
   "execution_count": null,
   "id": "ff3979c3",
   "metadata": {},
   "outputs": [],
   "source": [
    "playlist1_songs_artists =[]\n",
    "\n",
    "for i in range (len(playlist1)):\n",
    "    my_track = playlist1[i]['track']['album']\n",
    "    result = get_name_artists_from_track(my_track)\n",
    "    playlist1_songs_artists.append(result)\n",
    "    print(result)"
   ]
  },
  {
   "cell_type": "code",
   "execution_count": 57,
   "id": "c252d6b0",
   "metadata": {},
   "outputs": [],
   "source": [
    "def flatten(input_list):\n",
    "    return [item for sublist in input_list for item in sublist]"
   ]
  },
  {
   "cell_type": "code",
   "execution_count": 58,
   "id": "66e52625",
   "metadata": {},
   "outputs": [
    {
     "data": {
      "text/plain": [
       "[('Imagine', 'John Lennon'),\n",
       " ('A Whiter Shade Of Pale', 'Procol Harum'),\n",
       " ('A Night At The Opera (2011 Remaster)', 'Queen'),\n",
       " ('The Wall [2011 - Remaster] (2011 Remastered Version)', 'Pink Floyd'),\n",
       " ('Pat Garrett & Billy The Kid (Soundtrack From The Motion Picture)',\n",
       "  'Bob Dylan'),\n",
       " ('Beatles Biggest Hits!', 'The Yesterdays'),\n",
       " ('Hotel California (2013 Remaster)', 'Eagles'),\n",
       " ('The Graduate', 'Simon & Garfunkel'),\n",
       " (\"Don't Play That Song (Mono)\", 'Ben E. King'),\n",
       " ('Meddle (2011 Remastered Version)', 'Pink Floyd'),\n",
       " ('Innuendo (2011 Remaster)', 'Queen'),\n",
       " (\"Elvis 75 - Good Rockin' Tonight\", 'Elvis Presley'),\n",
       " ('Nirvana (International Version)', 'Nirvana'),\n",
       " ('Forever Young', 'Alphaville'),\n",
       " ('The Doors', 'The Doors'),\n",
       " ('Top 100 90s', 'Various Artists'),\n",
       " ('Grace (Legacy Edition)', 'Jeff Buckley'),\n",
       " ('Greatest Hits II (2011 Remaster)', 'Queen'),\n",
       " ('Hot Rocks 1964-1971 (Remastered)', 'The Rolling Stones'),\n",
       " ('Edith Piaf - The Best Of', 'Édith Piaf'),\n",
       " ('Heroes (1999 Remaster)', 'David Bowie'),\n",
       " ('Berry Is On Top (Reissue)', 'Chuck Berry'),\n",
       " ('Wish You Were Here [2011 - Remaster] (2011 Remastered Version)',\n",
       "  'Pink Floyd'),\n",
       " ('Beatles Biggest Hits!', 'The Yesterdays'),\n",
       " ('Highway 61 Revisited', 'Bob Dylan'),\n",
       " ('Thriller 25 Super Deluxe Edition', 'Michael Jackson'),\n",
       " ('Achtung Baby', 'U2'),\n",
       " (\"Elvis' Golden Records\", 'Elvis Presley'),\n",
       " ('Live!', 'Bob Marley & The Wailers'),\n",
       " ('The Best Of Nina Simone', 'Nina Simone'),\n",
       " (\"What's Going On - 40th Anniversary (Super Deluxe)\", 'Marvin Gaye'),\n",
       " ('Long Live the Beatles', 'The New Beatles'),\n",
       " ('The Very Best Of Sting And The Police', 'Sting'),\n",
       " ('The Very Best Of Sting And The Police', 'The Police'),\n",
       " ('Most of the Animals', 'The Animals'),\n",
       " ('Bringing It All Back Home', 'Bob Dylan'),\n",
       " ('Elvis 30 #1 Hits', 'Elvis Presley'),\n",
       " ('Out Of Time (U.S. Version)', 'R.E.M.'),\n",
       " ('Experience Hendrix: The Best Of Jimi Hendrix', 'Jimi Hendrix'),\n",
       " ('Number Ones', 'Bee Gees'),\n",
       " ('Sweet Dreams: Her Complete Decca Masters (1960-1963)', 'Patsy Cline'),\n",
       " (\"(Pronounced 'Leh-'Nérd 'Skin-'Nérd) [Expanded Edition]\", 'Lynyrd Skynyrd'),\n",
       " ('Hello Louis - The Hit Years (1963-1969)', 'Louis Armstrong'),\n",
       " ('The Essential Johnny Cash', 'Johnny Cash'),\n",
       " ('The Ultimate Collection', 'The Mamas & The Papas'),\n",
       " ('Led Zeppelin II (1994 Remaster)', 'Led Zeppelin'),\n",
       " ('Beggars Banquet', 'The Rolling Stones'),\n",
       " (\"The Freewheelin' Bob Dylan\", 'Bob Dylan'),\n",
       " ('Deepest Purple: The Very Best of Deep Purple', 'Deep Purple'),\n",
       " ('Playlist Plus', 'James Brown'),\n",
       " ('Metallica', 'Metallica'),\n",
       " ('The Best Of Cher (The Imperial Recordings: 1965-1968)', 'Cher'),\n",
       " ('Legend (The Definitive Remasters)', 'Bob Marley & The Wailers'),\n",
       " ('Number Ones', 'Stevie Wonder'),\n",
       " (\"Jerry Lee's Greatest\", 'Jerry Lee Lewis'),\n",
       " (\"Soyons Désinvoltes, N'Ayons L'Air De Rien\", 'Noir Désir'),\n",
       " ('I Put A Spell On You', 'Nina Simone'),\n",
       " ('Lady Day: The Complete Billie Holiday On Columbia (1933-1944)',\n",
       "  'Billie Holiday'),\n",
       " ('Crazy World', 'Scorpions'),\n",
       " ('The Cream Of Clapton', 'Eric Clapton'),\n",
       " ('The Cream Of Clapton', 'Cream'),\n",
       " ('The Cream Of Clapton', 'Derek & The Dominos'),\n",
       " ('OK Computer', 'Radiohead'),\n",
       " (\"You've Lost That Lovin' Feelin'\", 'The Righteous Brothers'),\n",
       " ('Never Mind The Bollocks, Here’s The Sex Pistols', 'Sex Pistols'),\n",
       " ('The Ultimate Collection', 'The Kinks'),\n",
       " ('Rock`n´Roll & Jukebox Hits Vol.2 - 50 Originals From The 50s & 60s',\n",
       "  'Various Artists'),\n",
       " ('Strange Days', 'The Doors'),\n",
       " ('Back In Black', 'AC/DC'),\n",
       " ('The Best Of Pink Floyd: A Foot In The Door (2011 Remastered Version)',\n",
       "  'Pink Floyd'),\n",
       " ('Ten', 'Pearl Jam'),\n",
       " ('A Change Is Gonna Come', 'Sam Cooke'),\n",
       " (\"The Times They Are A-Changin'\", 'Bob Dylan'),\n",
       " ('Elton John (Remastered Version)', 'Elton John'),\n",
       " ('I Walk the Line (Original Soundtrack Recording)', 'Johnny Cash'),\n",
       " ('Bon Jovi Greatest Hits', 'Bon Jovi'),\n",
       " ('Just As I Am', 'Bill Withers'),\n",
       " ('This Is Music: The Singles 92-98', 'The Verve'),\n",
       " (\"Elvis' Golden Records\", 'Elvis Presley'),\n",
       " (\"Who's Next (Deluxe Edition)\", 'The Who'),\n",
       " ('At Last!', 'Etta James'),\n",
       " ('The Wall [2011 - Remaster] (2011 Remastered Version)', 'Pink Floyd'),\n",
       " ('Days Of Future Passed', 'The Moody Blues'),\n",
       " ('Best of Chris Isaak (Remastered)', 'Chris Isaak'),\n",
       " ('AM', 'Arctic Monkeys'),\n",
       " ('Strange Days', 'The Doors'),\n",
       " (\"OK Computer (Collector's Edition)\", 'Radiohead'),\n",
       " ('May It Be', 'Enya'),\n",
       " ('Marley OST', 'Bob Marley & The Wailers'),\n",
       " ('London Calling (Remastered)', 'The Clash'),\n",
       " ('Hot Space', 'Queen'),\n",
       " ('Rocky IV', 'Various Artists'),\n",
       " ('...But Seriously', 'Phil Collins'),\n",
       " ('The Essential Little Richard', 'Little Richard'),\n",
       " ('The Bodyguard - Original Soundtrack Album', 'Whitney Houston'),\n",
       " ('Ultimate Sinatra', 'Frank Sinatra'),\n",
       " ('Electric Ladyland', 'Jimi Hendrix'),\n",
       " ('Tracy Chapman', 'Tracy Chapman'),\n",
       " ('Appetite For Destruction', \"Guns N' Roses\"),\n",
       " ('The Best Of Cutting Crew', 'Cutting Crew'),\n",
       " ('Grace (Legacy Edition)', 'Jeff Buckley'),\n",
       " ('The Best Of Pink Floyd: A Foot In The Door (2011 Remastered Version)',\n",
       "  'Pink Floyd'),\n",
       " ('The Best of 1980-1990 & B-Sides', 'U2'),\n",
       " ('The Future Starts Here: The Essential Doors Hits', 'The Doors'),\n",
       " ('Top 100 80s', 'Various Artists'),\n",
       " ('The Great Twenty-Eight', 'Chuck Berry'),\n",
       " ('Long Live the Beatles', 'The New Beatles'),\n",
       " ('The Best of The Kingsmen', 'The Kingsmen'),\n",
       " ('Edith Piaf - The Best Of', 'Édith Piaf'),\n",
       " ('Rocket Man (Deluxe Edition)', 'Elton John'),\n",
       " ('The Very Best of Enya (Deluxe Edition)', 'Enya'),\n",
       " ('Platinum Charles Aznavour', 'Charles Aznavour'),\n",
       " ('Ultimate Sinatra', 'Frank Sinatra'),\n",
       " ('Five Years (1969 - 1973)', 'David Bowie'),\n",
       " ('Transformer', 'Lou Reed'),\n",
       " ('Hot Fuss', 'The Killers'),\n",
       " ('En Vivo!', 'Iron Maiden'),\n",
       " ('Classics (The Best of The Kinks)', 'The Kinks'),\n",
       " ('The Essential Elvis Presley', 'Elvis Presley'),\n",
       " ('Wild One - The Very Best Of Thin Lizzy (Remastered Version)', 'Thin Lizzy'),\n",
       " ('The Forgotten Tales', 'Blind Guardian'),\n",
       " ('Austin Powers: The Spy Who Shagged Me Sndtrk', 'Various Artists'),\n",
       " ('Best Of Blondie', 'Blondie'),\n",
       " ('Singles 1965-1967', 'The Rolling Stones'),\n",
       " ('The Essential Bruce Springsteen', 'Bruce Springsteen'),\n",
       " ('Boston', 'Boston'),\n",
       " ('Boulevard of Broken Dreams', 'Green Day'),\n",
       " ('The Complete Commodore/Decca Masters', 'Billie Holiday'),\n",
       " (\"The Bends (Collector's Edition)\", 'Radiohead'),\n",
       " ('The Best Of Kansas', 'Kansas'),\n",
       " ('Take My Breath Away', 'Berlin'),\n",
       " ('Ramones (Expanded)', 'Ramones'),\n",
       " ('The Dark Side Of The Moon (2011 Remastered Version)', 'Pink Floyd'),\n",
       " (\"The Boatman's Call (Remastered)\", 'Nick Cave & The Bad Seeds'),\n",
       " ('The Best of Depeche Mode, Vol. 1 (Deluxe)', 'Depeche Mode'),\n",
       " ('Velvet + Steel = Gold - Tom Jones 1964-1969', 'Tom Jones'),\n",
       " ('Favourite Worst Nightmare', 'Arctic Monkeys'),\n",
       " ('Classic', 'James Brown'),\n",
       " ('Bad 25th Anniversary', 'Michael Jackson'),\n",
       " ('Five Years (1969 - 1973)', 'David Bowie'),\n",
       " ('Toto IV', 'TOTO'),\n",
       " ('The Greatest Hits', 'Simply Red'),\n",
       " ('20 Essential Tracks From The Box Set: 1965-1990', 'The Byrds'),\n",
       " ('90s Love Songs', 'Various Artists'),\n",
       " ('A Rush of Blood to the Head', 'Coldplay'),\n",
       " ('Blue Hawaii', 'Elvis Presley'),\n",
       " ('The Lord of the Rings: The Return of the King (Original Motion Picture Soundtrack)',\n",
       "  'Various Artists'),\n",
       " ('The Gambler', 'Various Artists'),\n",
       " ('Ten', 'Pearl Jam'),\n",
       " ('The Queen Is Dead', 'The Smiths'),\n",
       " (\"Rock N' Roll Legends\", 'The Righteous Brothers'),\n",
       " ('When a Man Loves a Woman', 'Percy Sledge'),\n",
       " ('90125 (Deluxe Version)', 'Yes'),\n",
       " ('Greatest Hits', 'Al Green'),\n",
       " ('Ultimate Sinatra', 'Frank Sinatra'),\n",
       " ('No Dice (Remastered 2010 / Deluxe Edition)', 'Badfinger'),\n",
       " ('Chicago X', 'Chicago'),\n",
       " ('Born To Run', 'Bruce Springsteen'),\n",
       " ('Cameo Parkway - The Best Of Chubby Checker (Original Hit Recordings) [International Version]',\n",
       "  'Chubby Checker'),\n",
       " ('Greatest Love Songs', 'Ricky Nelson'),\n",
       " ('Tea for the Tillerman (Deluxe Edition)', 'Yusuf / Cat Stevens'),\n",
       " ('Use Your Illusion I', \"Guns N' Roses\"),\n",
       " ('The Essential Billy Joel', 'Billy Joel'),\n",
       " ('The Platinum Collection', 'Deep Purple'),\n",
       " (\"Otis Blue: Otis Redding Sings Soul (Collector's Edition)\", 'Otis Redding'),\n",
       " ('Hits Back', 'The Clash'),\n",
       " (\"Sam's Town\", 'The Killers'),\n",
       " (\"Brotherhood (Collector's Edition)\", 'New Order'),\n",
       " ('The Joshua Tree (Deluxe Edition Remastered)', 'U2'),\n",
       " (\"Let's Stay Together\", 'Al Green'),\n",
       " (\"OK Computer (Collector's Edition)\", 'Radiohead'),\n",
       " ('The Graduate - Music From The Broadway Comedy', 'Various Artists'),\n",
       " ('MTV Unplugged In New York', 'Nirvana'),\n",
       " ('Somewhere Over the Rainbow', 'Judy Garland'),\n",
       " ('The Gulag Orkestar', 'Beirut'),\n",
       " ('Valentine Disaster (International Version)', 'Various Artists'),\n",
       " ('The Best Of Pink Floyd: A Foot In The Door (2011 Remastered Version)',\n",
       "  'Pink Floyd'),\n",
       " ('Forever Young', 'Alphaville'),\n",
       " ('The Very Best of Frankie Valli & The 4 Seasons',\n",
       "  'Frankie Valli & The Four Seasons'),\n",
       " ('Superunknown (20th Anniversary)', 'Soundgarden'),\n",
       " ('The Game (2011 Remaster)', 'Queen'),\n",
       " ('I Heard It Through The Grapevine / In The Groove (Stereo)', 'Marvin Gaye'),\n",
       " ('Self Control', 'Laura Branigan'),\n",
       " ('Physical Graffiti (1994 Remaster)', 'Led Zeppelin'),\n",
       " ('Oracular Spectacular', 'MGMT'),\n",
       " ('The Greatest Hits (The Sugarhill Gang vs. Grandmaster Flash)',\n",
       "  'The Sugarhill Gang'),\n",
       " ('The Greatest Hits (The Sugarhill Gang vs. Grandmaster Flash)',\n",
       "  'Grandmaster Flash'),\n",
       " ('Elephant', 'The White Stripes'),\n",
       " ('The Very Best Of Kool & The Gang', 'Kool & The Gang'),\n",
       " ('The Dukes Of Hazzard (Music From The Motion Picture)', 'Various Artists'),\n",
       " ('All Things Must Pass (Remastered)', 'George Harrison'),\n",
       " ('The Ultimate Bobby Darin', 'Bobby Darin'),\n",
       " ('Killing Me Softly', 'Roberta Flack'),\n",
       " ('The EP Collection', 'The Troggs'),\n",
       " ('Selections From The Original Soundtrack The Woman In Red',\n",
       "  'Dionne Warwick'),\n",
       " ('Selections From The Original Soundtrack The Woman In Red', 'Stevie Wonder'),\n",
       " (\"Nippers 50's-Vol.2\", 'Various Artists'),\n",
       " ('While My Guitar Gently Weeps / Yellow Submarine', 'Re Beatles'),\n",
       " ('The Best Of Dion & The Belmonts', 'Dion & The Belmonts'),\n",
       " ('George Jones - 16 Biggest Hits', 'George Jones'),\n",
       " ('The Very Best Of', 'UB40'),\n",
       " ('Steppenwolf', 'Steppenwolf'),\n",
       " ('News Of The World (2011 Remaster)', 'Queen'),\n",
       " ('Be My Baby: The Very Best of The Ronettes', 'The Ronettes'),\n",
       " ('Viva La Vida or Death and All His Friends', 'Coldplay'),\n",
       " ('Curtain Call (Deluxe)', 'Eminem'),\n",
       " ('Green River (40th Anniversary Edition)', 'Creedence Clearwater Revival'),\n",
       " ('Bette Davis Eyes', 'Kim Carnes'),\n",
       " (\"Michael Jackson's This Is It\", 'Michael Jackson'),\n",
       " ('En Vivo!', 'Iron Maiden'),\n",
       " ('The Best Of Bobby Vinton', 'Bobby Vinton'),\n",
       " ('The Razors Edge', 'AC/DC'),\n",
       " ('No Need To Argue (The Complete Sessions 1994-1995)', 'The Cranberries'),\n",
       " ('The Very Best of Van Halen (UK Release)', 'Van Halen'),\n",
       " ('The Very Best of Otis Redding', 'Otis Redding'),\n",
       " ('Cem Karaca Koleksiyon', 'Cem Karaca'),\n",
       " ('The Beach Boys Love Songs', 'The Beach Boys'),\n",
       " ('Second Helping', 'Lynyrd Skynyrd'),\n",
       " ('The Very Best Of Buddy Holly', 'Buddy Holly'),\n",
       " ('Five Years (1969 - 1973)', 'David Bowie'),\n",
       " (\"I Love Rock 'N Roll\", 'Joan Jett & the Blackhearts'),\n",
       " ('The Dance Album', 'Carl Perkins'),\n",
       " ('Flashdance... What A Feeling', 'Irene Cara'),\n",
       " ('Curtain Call (Deluxe)', 'Eminem'),\n",
       " ('Graceland (25th Anniversary Deluxe Edition)', 'Paul Simon'),\n",
       " ('Clapton Chronicles: The Best of Eric Clapton', 'Eric Clapton'),\n",
       " ('Up To Now', 'Snow Patrol'),\n",
       " (\"Elvis 75 - Good Rockin' Tonight\", 'Elvis Presley'),\n",
       " (\"Gangsta's Paradise\", 'Coolio'),\n",
       " (\"Who's Next (Remastered)\", 'The Who'),\n",
       " ('Motown 50', 'Various Artists'),\n",
       " ('The Essential Michael Bolton', 'Michael Bolton'),\n",
       " ('The Essential Journey', 'Journey'),\n",
       " ('Paradas Continuas', 'Various Artists'),\n",
       " ('The Very Best Of Shocking Blue (Part One - The A Sides)', 'Shocking Blue'),\n",
       " ('The Essential Heart', 'Heart'),\n",
       " ('The Final Countdown (Expanded Edition)', 'Europe'),\n",
       " ('...And Justice For All', 'Metallica'),\n",
       " ('Blood On The Tracks', 'Bob Dylan'),\n",
       " (\"Elvis' Golden Records\", 'Elvis Presley'),\n",
       " ('The Way We Were: The Best Of Gladys Knight & The Pips',\n",
       "  'Gladys Knight & The Pips'),\n",
       " ('Arrival', 'ABBA'),\n",
       " ('Manfred Mann - Down The Road Apiece (Their EMI Recordings 1963-1966)',\n",
       "  'Manfred Mann'),\n",
       " ('Bridge Over Troubled Water', 'Simon & Garfunkel'),\n",
       " ('Queen Forever', 'Queen'),\n",
       " ('The Bang Years 1966-1968 (The 23 Original Mono Recordings)',\n",
       "  'Neil Diamond'),\n",
       " ('Joe Dassin Éternel...', 'Joe Dassin'),\n",
       " (\"Can't Slow Down\", 'Lionel Richie'),\n",
       " ('Ultimate Sinatra', 'Frank Sinatra'),\n",
       " (\"The Best Of Harold Melvin & The Blue Notes: If You Don't Know Me By Now (Featuring Teddy Pendergrass) (feat. Teddy Pendergrass)\",\n",
       "  'Harold Melvin & The Blue Notes'),\n",
       " ('Ghostbusters', 'Original Soundtrack'),\n",
       " ('The Doors', 'The Doors'),\n",
       " ('Hybrid Theory (Bonus Edition)', 'Linkin Park'),\n",
       " ('Brothers In Arms (Remastered)', 'Dire Straits'),\n",
       " ('Geldiler', 'MFÖ'),\n",
       " ('Wheels Of Fire (Remastered)', 'Cream'),\n",
       " (\"Please Hammer Don't Hurt 'Em\", 'MC Hammer'),\n",
       " ('Hunting High and Low', 'a-ha'),\n",
       " ('The 50 Greatest Vocal Hits', 'Luciano Pavarotti'),\n",
       " (\"What's Love Got to Do with It?\", 'Tina Turner'),\n",
       " ('The Soul of the Kung Fu Fighter', 'Carl Douglas'),\n",
       " ('New In Town', 'Various Artists'),\n",
       " ('Cornerstone', 'Styx'),\n",
       " ('Get The Knack', 'The Knack'),\n",
       " ('Take The Heat Off Me', 'Boney M.'),\n",
       " ('The Reason', 'Hoobastank'),\n",
       " ('The Complete John Waite, Volume One: Falling Backwards', 'John Waite'),\n",
       " ('News Of The World (2011 Remaster)', 'Queen'),\n",
       " ('The Dance Collection', 'Donna Summer'),\n",
       " ('Playing The Angel', 'Depeche Mode'),\n",
       " ('Celebrate!', 'Kool & The Gang'),\n",
       " ('Bridge Over Troubled Water', 'Simon & Garfunkel'),\n",
       " ('Wingspan (UK Version)', 'Paul McCartney'),\n",
       " ('A Rush of Blood to the Head', 'Coldplay'),\n",
       " ('Room On Fire', 'The Strokes'),\n",
       " ('Absolution', 'Muse'),\n",
       " ('On the Beach', 'The Paragons'),\n",
       " ('Hopes and Fears (Deluxe Edition)', 'Keane'),\n",
       " (\"Let's Dance (1999 Remaster)\", 'David Bowie'),\n",
       " ('America', 'America'),\n",
       " ('Ritchie Valens', 'Ritchie Valens'),\n",
       " ('No Jacket Required', 'Phil Collins'),\n",
       " ('Slippery When Wet (Remastered)', 'Bon Jovi'),\n",
       " ('West Ryder Pauper Lunatic Asylum', 'Kasabian'),\n",
       " ('Combat Rock (Remastered)', 'The Clash'),\n",
       " ('Go West In the Navy', 'Village People'),\n",
       " ('Hot Fuss', 'The Killers'),\n",
       " ('25 Years Of Disco-Pop', 'Modern Talking'),\n",
       " ('Stop The Clocks', 'Oasis'),\n",
       " ('Gold - The Best of Spandau Ballet', 'Spandau Ballet'),\n",
       " ('Mellow Gold', 'Beck'),\n",
       " ('Across The Universe (Deluxe)', 'Various Artists'),\n",
       " ('Pleasantville -Music From The Motion Picture', 'Various Artists'),\n",
       " ('The Essential Aerosmith', 'Aerosmith'),\n",
       " ('Saturday Night Fever [The Original Movie Soundtrack]', 'Bee Gees'),\n",
       " ('Vital Idol', 'Billy Idol'),\n",
       " ('Pearl (Legacy Edition)', 'Janis Joplin'),\n",
       " ('Original Golden Hits - Volume 1', 'Jerry Lee Lewis'),\n",
       " ('The Rolling Stones Singles Box Set (1971-2006) [Sampler]',\n",
       "  'The Rolling Stones'),\n",
       " ('Who Are You (Remastered)', 'The Who'),\n",
       " ('HIStory - PAST, PRESENT AND FUTURE - BOOK I', 'Michael Jackson'),\n",
       " ('The Rolling Stones Singles Box Set (1971-2006) [Sampler]',\n",
       "  'The Rolling Stones'),\n",
       " ('Unearthed', 'Johnny Cash'),\n",
       " ('Cooleyhighharmony (Expanded Edition)', 'Boyz II Men'),\n",
       " ('The Best of Nickelback, Vol. 1', 'Nickelback'),\n",
       " ('The Number Of The Beast (1998 Remastered Edition)', 'Iron Maiden'),\n",
       " (\"Elvis' Golden Records, Vol. 3\", 'Elvis Presley'),\n",
       " ('Experience Hendrix: The Best Of Jimi Hendrix', 'Jimi Hendrix'),\n",
       " ('A Day At The Races (2011 Remaster)', 'Queen'),\n",
       " ('The Smiths', 'The Smiths'),\n",
       " ('The Very Best of The Everly Brothers', 'The Everly Brothers'),\n",
       " ('Prolonging the Magic', 'CAKE'),\n",
       " (\"Easy Skanking In Boston '78\", 'Bob Marley & The Wailers'),\n",
       " ('Yandık Desene', 'Grup Vitamin'),\n",
       " ('Hooray For Boobies', 'Bloodhound Gang'),\n",
       " (\"Everybody's Talkin': The Very Best of Harry Nilsson\", 'Harry Nilsson'),\n",
       " ('In The Still Of The Nite', 'The Five Satins'),\n",
       " ('Tubthumper', 'Chumbawamba'),\n",
       " ('Schellackstars (Vol. 3)', 'Various Artists'),\n",
       " (\"Bon Jovi Greatest Hits - The Ultimate Collection (Int'l Deluxe Package)\",\n",
       "  'Bon Jovi'),\n",
       " ('Random Access Memories', 'Daft Punk'),\n",
       " (\"Can't Stop the Music (Original Soundtrack 1980)\", 'Village People'),\n",
       " ('The Resistance', 'Muse'),\n",
       " ('Sweet Dreams (Are Made Of This)', 'Eurythmics'),\n",
       " ('Sweet Dreams (Are Made Of This)', 'Annie Lennox'),\n",
       " ('Sweet Dreams (Are Made Of This)', 'Dave Stewart'),\n",
       " ('Pure 60s', 'Various Artists'),\n",
       " ('Bayou Country (Expanded Edition)', 'Creedence Clearwater Revival'),\n",
       " ('Acoustica', 'Scorpions'),\n",
       " ('Back To Black', 'Amy Winehouse'),\n",
       " ('Jazz (2011 Remaster)', 'Queen'),\n",
       " ('Super Trouper', 'ABBA'),\n",
       " ('Pour Some Sugar On Me (2012)', 'Def Leppard'),\n",
       " (\"Sittin' On the Dock of the Bay\", 'Otis Redding'),\n",
       " ('Coming Up (Remastered)', 'Suede'),\n",
       " ('Hopes and Fears (Deluxe Edition)', 'Keane'),\n",
       " ('AM', 'Arctic Monkeys'),\n",
       " ('Parachutes', 'Coldplay'),\n",
       " ('Black Gold: The Best Of Soul Asylum', 'Soul Asylum'),\n",
       " ('Highway to Hell', 'AC/DC'),\n",
       " (\"Hurry up, We're Dreaming\", 'M83'),\n",
       " ('Revelation', 'Journey'),\n",
       " ('Good Girl Gone Bad: Reloaded', 'Rihanna'),\n",
       " (\"Jump Back - The Best Of The Rolling Stones, '71 - '93\",\n",
       "  'The Rolling Stones'),\n",
       " ('Introducing the Dwights', 'Various Artists'),\n",
       " ('Escapology', 'Robbie Williams'),\n",
       " ('Agent Provocateur', 'Foreigner'),\n",
       " ('The Essential Billy Joel', 'Billy Joel'),\n",
       " ('Notre Dame de Paris - Comédie musicale (Complete Version In French)',\n",
       "  'Luc Plamondon'),\n",
       " ('Notre Dame de Paris - Comédie musicale (Complete Version In French)',\n",
       "  'Richard Cocciante'),\n",
       " ('Armageddon - The Album', 'Various Artists'),\n",
       " ('Ricky Martin', 'Ricky Martin'),\n",
       " ('Back to Bedlam', 'James Blunt'),\n",
       " ('Celebration (double disc version)', 'Madonna'),\n",
       " ('The Marcels', 'The Marcels'),\n",
       " ('Brothers And Sisters (Deluxe Edition)', 'Allman Brothers Band'),\n",
       " ('The Downward Spiral', 'Nine Inch Nails'),\n",
       " ('Bigger, Better, Faster, More !', '4 Non Blondes'),\n",
       " ('Appetite For Destruction', \"Guns N' Roses\"),\n",
       " (\"Singin' in the Rain (Original Motion Picture Soundtrack)\",\n",
       "  'Various Artists'),\n",
       " ('Unearthed', 'Johnny Cash'),\n",
       " ('The Works (2011 Remaster)', 'Queen'),\n",
       " ('The Essential Elvis Presley', 'Elvis Presley'),\n",
       " ('Dire Straits (Remastered)', 'Dire Straits'),\n",
       " ('Ladies And Gentlemen... The Best Of George Michael', 'George Michael'),\n",
       " ('Blockbuster Movie Hits', 'Various Artists'),\n",
       " (\"(Pronounced 'Leh-'Nérd 'Skin-'Nérd) [Expanded Edition]\", 'Lynyrd Skynyrd'),\n",
       " ('Come Together', 'The Beatles Acoustic Trio'),\n",
       " ('Notes From Planet Earth - The Collection', 'Chris de Burgh'),\n",
       " ('Metallica', 'Metallica'),\n",
       " ('Born In The U.S.A.', 'Bruce Springsteen'),\n",
       " ('First Impressions Of Earth', 'The Strokes'),\n",
       " ('Nirvana (International Version)', 'Nirvana'),\n",
       " ('Mona Bone Jakon (Remastered)', 'Yusuf / Cat Stevens'),\n",
       " ('Music From Big Pink (Expanded Edition)', 'The Band'),\n",
       " ('Best Of', 'Skid Row'),\n",
       " ('Greatest Hits', 'The Cure'),\n",
       " ('Rhino Hi-Five: All-4-One', 'All-4-One'),\n",
       " ('American Idiot', 'Green Day'),\n",
       " ('Sixties', 'Various Artists'),\n",
       " ('Everything All The Time', 'Band of Horses'),\n",
       " ('The Essential Journey', 'Journey'),\n",
       " ('Transformer', 'Lou Reed'),\n",
       " ('Metallica', 'Metallica'),\n",
       " ('Confrontation', 'Bob Marley & The Wailers'),\n",
       " ('R&B: From Doo-Wop To Hip-Hop', 'Various Artists'),\n",
       " (\"Marvin Gaye '50' (International Version)\", 'Marvin Gaye'),\n",
       " ('A Collection of Roxette Hits! Their 20 Greatest Songs!', 'Roxette'),\n",
       " ('The Next Day', 'David Bowie'),\n",
       " ('25 Years Of Disco-Pop', 'Modern Talking'),\n",
       " ('The Rolling Stones Singles Box Set (1971-2006) [Sampler]',\n",
       "  'The Rolling Stones'),\n",
       " ('Californication (Deluxe Edition)', 'Red Hot Chili Peppers'),\n",
       " ('Essential', \"Sinéad O'Connor\"),\n",
       " ('Stop The Clocks', 'Oasis'),\n",
       " ('Classic Dusty Springfield - The Universal Masters Collection',\n",
       "  'Dusty Springfield'),\n",
       " ('Waking Up The Neighbours', 'Bryan Adams'),\n",
       " ('Easter', 'Patti Smith'),\n",
       " ('Automatic For The People (U.S. Version)', 'R.E.M.'),\n",
       " ('Ultimate Sinatra', 'Frank Sinatra'),\n",
       " ('Pay Close Attention : XL Recordings', 'Various Artists'),\n",
       " ('The Best Of The Platters', 'The Platters'),\n",
       " ('Death To The Pixies', 'Pixies'),\n",
       " ('MFÖ Box Set (1992 - 1995)', 'MFÖ'),\n",
       " ('Fields Of Gold - The Best Of Sting 1984 - 1994', 'Sting'),\n",
       " ('The Reckoning', 'Asaf Avidan & the Mojos'),\n",
       " ('Island Records Post Punk Box Set - Out Come The Freaks', 'Various Artists'),\n",
       " ('Bon Jovi Greatest Hits', 'Bon Jovi'),\n",
       " ('Nightbirds', 'LaBelle'),\n",
       " ('The Best Of Bonnie Raitt On Capitol 1989-2003', 'Bonnie Raitt'),\n",
       " ('Mellon Collie And The Infinite Sadness (Remastered)',\n",
       "  'The Smashing Pumpkins'),\n",
       " ('The Very Best of The Everly Brothers', 'The Everly Brothers'),\n",
       " ('Who Made Who', 'AC/DC'),\n",
       " ('Willie Nelson - 16 Biggest Hits', 'Willie Nelson'),\n",
       " ('Crazy World', 'Scorpions'),\n",
       " ('Romanza (Remastered)', 'Andrea Bocelli'),\n",
       " ('Duran Duran', 'Duran Duran'),\n",
       " ('American Idiot', 'Green Day'),\n",
       " ('Desire', 'Bob Dylan'),\n",
       " ('Black Holes and Revelations', 'Muse'),\n",
       " ('The Boy With No Name', 'Travis'),\n",
       " ('A Collection of Roxette Hits! Their 20 Greatest Songs!', 'Roxette'),\n",
       " ('Red Headed Stranger', 'Willie Nelson'),\n",
       " (\"Sam's Town\", 'The Killers'),\n",
       " ('Blur: The Best Of', 'Blur'),\n",
       " ('Finest', 'The Proclaimers'),\n",
       " ('We Are Young (feat. Janelle Monáe)', 'fun.'),\n",
       " ('No Protection', 'Starship'),\n",
       " ('Sings Lonely And Blue', 'Roy Orbison'),\n",
       " ('Take Me Home Tonight', 'Various Artists'),\n",
       " ('Fleetwood Mac', 'Fleetwood Mac'),\n",
       " ('Atomic: The Very Best Of Blondie', 'Blondie'),\n",
       " ('Various Positions', 'Leonard Cohen'),\n",
       " ('The Ultimate Bee Gees', 'Bee Gees'),\n",
       " ('The Essential Boney M.', 'Boney M.'),\n",
       " ('Ultimate Air Supply', 'Air Supply'),\n",
       " ('Good Old USA', 'Lulu Belle & Scotty'),\n",
       " ('Pieces Of You', 'Jewel'),\n",
       " ('Guitarra y Sentimiento', 'Ana Gabriel'),\n",
       " ('Guitarra y Sentimiento', 'José José'),\n",
       " (\"Everybody Else Is Doing It, So Why Can't We? (The Complete Sessions 1991-1993)\",\n",
       "  'The Cranberries'),\n",
       " ('Very Best Of Kenny Rogers', 'Kenny Rogers'),\n",
       " ('The Collection', 'Bobby McFerrin'),\n",
       " ('The Very Best Of', 'Ozzie & Harriet Nelson'),\n",
       " ('Road to Ruin (Expanded 2005 Remaster)', 'Ramones'),\n",
       " ('Essential - Girls Night In', 'Various Artists'),\n",
       " ('The Best Of Don McLean', 'Don McLean'),\n",
       " ('Demon Days', 'Gorillaz'),\n",
       " ('In the Summertime', 'Mungo Jerry'),\n",
       " ('The Essential Elvis Presley', 'Elvis Presley'),\n",
       " ('Lo Mejor de José Feliciano', 'José Feliciano'),\n",
       " ('Be Here Now', 'Oasis'),\n",
       " ('Doolittle', 'Pixies'),\n",
       " ('The Best Of', 'Gipsy Kings'),\n",
       " ('Vampire Weekend', 'Vampire Weekend'),\n",
       " ('16 Biggest Hits', 'Keith Whitley'),\n",
       " ('Beautiful People: The Greatest Hits of Melanie', 'Melanie'),\n",
       " ('Christmas Hits', 'Various Artists'),\n",
       " ('MFÖ Box Set (1992 - 1995)', 'MFÖ'),\n",
       " ('Spirits Having Flown', 'Bee Gees'),\n",
       " ('What Is Love (Remixes)', 'Haddaway'),\n",
       " ('Grease (Deluxe Edition)', 'Various Artists'),\n",
       " ('Believe', 'Cher'),\n",
       " ('Lady Soul (With Bonus Selections)', 'Aretha Franklin'),\n",
       " ('Boots', 'Nancy Sinatra'),\n",
       " ('Skeeter Davis: The Pop Hits Collection, Volume 1', 'Skeeter Davis'),\n",
       " ('Gold (1965 - 1975)', 'Tom Jones'),\n",
       " ('Back To Black', 'Amy Winehouse'),\n",
       " ('Hot Fuss', 'The Killers'),\n",
       " ('Rocket Man (Deluxe Edition)', 'Elton John'),\n",
       " ('Ultimate Workout', 'Various Artists'),\n",
       " ('Classic Eric Clapton', 'Eric Clapton'),\n",
       " ('Songs For The Deaf', 'Queens of the Stone Age'),\n",
       " ('The Colour And The Shape', 'Foo Fighters'),\n",
       " ('Is This It', 'The Strokes'),\n",
       " ('Chicago 16 (Expanded Edition)', 'Chicago'),\n",
       " ('Up To Now', 'Snow Patrol'),\n",
       " ('Bad Animals', 'Heart'),\n",
       " ('Americana', 'The Offspring'),\n",
       " ('An American Love Story', 'Various Artists'),\n",
       " ('Reckless (30th Anniversary / Deluxe Edition)', 'Bryan Adams'),\n",
       " ('First Take', 'Roberta Flack'),\n",
       " ('Yours Truly, Angry Mob', 'Kaiser Chiefs'),\n",
       " ('Sukiyaki', 'Kyu Sakamoto'),\n",
       " ('Come Away With Me', 'Norah Jones'),\n",
       " ('Butch Cassidy & The Sundance Kid', 'Burt Bacharach'),\n",
       " ('Butch Cassidy & The Sundance Kid', 'B.J. Thomas'),\n",
       " (\"Lambada - Les originaux No. 1 de l'été (Original 1989)\", 'Kaoma'),\n",
       " ('Firehouse', 'Firehouse'),\n",
       " ('70s 100 Hits', 'Various Artists'),\n",
       " ('Young Lust: The Aerosmith Anthology', 'Aerosmith'),\n",
       " ('The Very Best Of Bonnie Tyler', 'Bonnie Tyler'),\n",
       " ('Greatest Rock And Roll Songs', 'Brenda Lee'),\n",
       " ('25 Years Of Disco-Pop', 'Modern Talking'),\n",
       " ('The Essential Cyndi Lauper', 'Cyndi Lauper'),\n",
       " ('The Cross Of Changes', 'Enigma'),\n",
       " ('The Essential Journey', 'Journey'),\n",
       " ('Repeat Offender', 'Richard Marx'),\n",
       " ('Themes From \"Calmi Cuori Appassionati\"', 'Enya'),\n",
       " ('I Know What It Is To Be Young', 'Orson Welles'),\n",
       " ('The Greatest Hits', 'Simply Red'),\n",
       " ('50 Summer Hits', 'Various Artists'),\n",
       " ('The Ultimate Collection 1968-2003', 'Joe Cocker'),\n",
       " ('so80s (So Eighties) - Pres. By Blank & Jones', 'Various Artists'),\n",
       " ('Californication (Deluxe Edition)', 'Red Hot Chili Peppers'),\n",
       " ('Discovery', 'Daft Punk'),\n",
       " ('The Best Of', 'Rick Astley'),\n",
       " ('You Are The Quarry', 'Morrissey'),\n",
       " ('Goodbye And Hello', 'Tim Buckley'),\n",
       " ('Still Got The Blues', 'Gary Moore'),\n",
       " ('Mançoloji 2', 'Barış Manço'),\n",
       " ('I Can See Your House From Here', 'Camel'),\n",
       " ('Five Leaves Left', 'Nick Drake')]"
      ]
     },
     "execution_count": 58,
     "metadata": {},
     "output_type": "execute_result"
    }
   ],
   "source": [
    "flatten(playlist1_songs_artists)\n",
    "\n",
    "# list of all songs and their artists in the playlist1"
   ]
  },
  {
   "cell_type": "code",
   "execution_count": null,
   "id": "c2e23f8a",
   "metadata": {},
   "outputs": [],
   "source": []
  },
  {
   "cell_type": "markdown",
   "id": "f11bf120",
   "metadata": {},
   "source": [
    "## Large playlist 2\n",
    "checking its structure, then taking the artist and song names"
   ]
  },
  {
   "cell_type": "code",
   "execution_count": null,
   "id": "8533f7ef",
   "metadata": {},
   "outputs": [],
   "source": [
    "# A new playlist (playlist2)"
   ]
  },
  {
   "cell_type": "code",
   "execution_count": 59,
   "id": "dc9b9e9b",
   "metadata": {},
   "outputs": [
    {
     "data": {
      "text/plain": [
       "772"
      ]
     },
     "execution_count": 59,
     "metadata": {},
     "output_type": "execute_result"
    }
   ],
   "source": [
    "playlist2 = get_playlist_tracks(\"5lIoXRJHLCdOnPAE8A4hxE\")\n",
    "len(playlist2)"
   ]
  },
  {
   "cell_type": "code",
   "execution_count": 60,
   "id": "78017612",
   "metadata": {},
   "outputs": [
    {
     "data": {
      "text/plain": [
       "dict_keys(['album', 'artists', 'available_markets', 'disc_number', 'duration_ms', 'episode', 'explicit', 'external_ids', 'external_urls', 'href', 'id', 'is_local', 'name', 'popularity', 'preview_url', 'track', 'track_number', 'type', 'uri'])"
      ]
     },
     "execution_count": 60,
     "metadata": {},
     "output_type": "execute_result"
    }
   ],
   "source": [
    "playlist2[0]['track'].keys()"
   ]
  },
  {
   "cell_type": "code",
   "execution_count": null,
   "id": "2b836f17",
   "metadata": {},
   "outputs": [],
   "source": [
    "playlist1[0]['track']['album']"
   ]
  },
  {
   "cell_type": "code",
   "execution_count": null,
   "id": "cf974f0d",
   "metadata": {},
   "outputs": [],
   "source": [
    "playlist2_songs_artists =[]\n",
    "\n",
    "for i in range (len(playlist2)):\n",
    "    my_track = playlist2[i]['track']['album']\n",
    "    result = get_name_artists_from_track(my_track)\n",
    "    playlist2_songs_artists.append(result)\n",
    "    print(result)"
   ]
  },
  {
   "cell_type": "code",
   "execution_count": 63,
   "id": "087168c0",
   "metadata": {},
   "outputs": [
    {
     "data": {
      "text/plain": [
       "[('17', 'XXXTENTACION'),\n",
       " (\"Come Over When You're Sober, Pt. 2\", 'Lil Peep'),\n",
       " ('Legends', 'Juice WRLD'),\n",
       " ('KIRK', 'DaBaby'),\n",
       " ('Camelot', 'NLE Choppa'),\n",
       " ('KIRK', 'DaBaby'),\n",
       " ('THE GOAT', 'Polo G'),\n",
       " ('KIRK', 'DaBaby'),\n",
       " ('Cottonwood', 'NLE Choppa'),\n",
       " ('So Much Fun (Deluxe)', 'Young Thug'),\n",
       " ('Cheat Codes for Hoes', 'Shotgun Willy'),\n",
       " ('Cheat Codes for Hoes', 'TRAQULA'),\n",
       " ('Floor Seats (Text Back)', 'Moxas'),\n",
       " ('Beautiful Thugger Girls', 'Young Thug'),\n",
       " ('3 Vets', 'The Future Kingz'),\n",
       " ('Daygo', 'KGodd'),\n",
       " ('Death Race For Love', 'Juice WRLD'),\n",
       " ('17', 'XXXTENTACION'),\n",
       " ('Fetty Wap (Deluxe)', 'Fetty Wap'),\n",
       " ('Rodeo (Expanded Edition)', 'Travis Scott'),\n",
       " ('Dark Knight Dummo (Feat. Travis Scott)', 'Trippie Redd'),\n",
       " ('Dark Knight Dummo (Feat. Travis Scott)', 'Travis Scott'),\n",
       " ('Pray 4 Love', 'Rod Wave'),\n",
       " ('Oso Different', 'MarMar Oso'),\n",
       " ('STOKELEY', 'Ski Mask The Slump God'),\n",
       " ('XXXTENTACION Presents: Members Only, Vol. 3', 'XXXTENTACION'),\n",
       " ('The Best of 2Pac', '2Pac'),\n",
       " ('?', 'XXXTENTACION'),\n",
       " ('17', 'XXXTENTACION'),\n",
       " ('?', 'XXXTENTACION'),\n",
       " ('?', 'XXXTENTACION'),\n",
       " ('Kung Fu', 'Cordae'),\n",
       " ('2001', 'Dr. Dre'),\n",
       " ('?', 'XXXTENTACION'),\n",
       " ('FRIENDS KEEP SECRETS', 'benny blanco'),\n",
       " ('Future & Juice WRLD Present... WRLD ON DRUGS', 'Future'),\n",
       " ('Future & Juice WRLD Present... WRLD ON DRUGS', 'Juice WRLD'),\n",
       " ('THE SCOTTS', 'THE SCOTTS'),\n",
       " ('THE SCOTTS', 'Travis Scott'),\n",
       " ('THE SCOTTS', 'Kid Cudi'),\n",
       " ('Woah (feat. D3Mstreet)', 'KRYPTO9095'),\n",
       " ('Lets Link', 'WhoHeem'),\n",
       " ('Address It', 'LPB Poody'),\n",
       " ('Long Live Mexico', 'Lil Keed'),\n",
       " ('Wet (She Got That…)', 'YFN Lucci'),\n",
       " ('PTSD', 'Rod Wave'),\n",
       " ('Pandemic', 'Comethazine'),\n",
       " ('Sleepy Hallow Presents: Sleepy For President', 'Sleepy Hallow'),\n",
       " ('A Good Night in the Ghetto', 'Kamaiyah'),\n",
       " ('Phsyco', 'Ogizzle'),\n",
       " ('Shoot For The Stars Aim For The Moon', 'Pop Smoke'),\n",
       " ('Tap In', 'Saweetie'),\n",
       " ('WAP (feat. Megan Thee Stallion)', 'Cardi B'),\n",
       " ('WAP (feat. Megan Thee Stallion)', 'Megan Thee Stallion'),\n",
       " ('Honesty (Jersey Club Remix)', 'Pink Sweat$'),\n",
       " ('Honesty (Jersey Club Remix)', 'JIDDY'),\n",
       " ('Mood (feat. iann dior)', '24kGoldn'),\n",
       " ('Mood (feat. iann dior)', 'iann dior'),\n",
       " ('Yellow Hearts', 'Ant Saunders'),\n",
       " ('Cry Baby (Deluxe Edition)', 'Melanie Martinez'),\n",
       " (\"Gangsta's Paradise\", 'Coolio'),\n",
       " ('Shoot For The Stars Aim For The Moon', 'Pop Smoke'),\n",
       " ('Spot the Difference', 'ONEFOUR'),\n",
       " ('Legends Never Die', 'Juice WRLD'),\n",
       " ('?', 'XXXTENTACION'),\n",
       " ('WHATS POPPIN (feat. DaBaby, Tory Lanez & Lil Wayne) [Remix]',\n",
       "  'Jack Harlow'),\n",
       " ('WHATS POPPIN (feat. DaBaby, Tory Lanez & Lil Wayne) [Remix]', 'Tory Lanez'),\n",
       " ('No Guidance (feat. Drake)', 'Chris Brown'),\n",
       " ('Shoot For The Stars Aim For The Moon', 'Pop Smoke'),\n",
       " ('The Life Of Pablo', 'Kanye West'),\n",
       " ('You Will Regret (Reloaded)', 'Ski Mask The Slump God'),\n",
       " ('Shotta Flow (Feat. Blueface) [Remix]', 'NLE Choppa'),\n",
       " ('MUDBOY', 'Sheck Wes'),\n",
       " ('THICK', 'DJ Chose'),\n",
       " ('THICK', 'BeatKing'),\n",
       " ('Lemonade (feat. Gunna, Don Toliver & NAV)', 'Internet Money'),\n",
       " ('Lemonade (feat. Gunna, Don Toliver & NAV)', 'Gunna'),\n",
       " ('Lemonade (feat. Gunna, Don Toliver & NAV)', 'Don Toliver'),\n",
       " ('Hood Baby', 'KBFR'),\n",
       " (\"Tell Em I'm Doing Eetswa\", 'Hooligan Hefs'),\n",
       " ('Meet The Woo 2', 'Pop Smoke'),\n",
       " ('No Guidance, Remake', 'Litfranse'),\n",
       " ('Dark Sky Paradise', 'Big Sean'),\n",
       " ('Tick Tock (feat. 24kGoldn)', 'Clean Bandit'),\n",
       " ('Tick Tock (feat. 24kGoldn)', 'Mabel'),\n",
       " ('Tick Tock (feat. 24kGoldn)', '24kGoldn'),\n",
       " ('Garage Room Freestyle (Reel It In)', 'Number9ok'),\n",
       " ('For You', 'Vedo'),\n",
       " ('ily (i love you baby) (feat. Emilee)', 'Surf Mesa'),\n",
       " ('Whole Lotta Choppas', 'Sada Baby'),\n",
       " ('Deep End', 'Fousheé'),\n",
       " ('Stuck In The Middle', 'Tai Verdes'),\n",
       " ('Year of the Dog', 'Kenndog'),\n",
       " ('Put Your Records On', 'Ritt Momney'),\n",
       " ('Rumours (Super Deluxe)', 'Fleetwood Mac'),\n",
       " ('Everybody', 'Logic'),\n",
       " ('Adderall (Corvette Corvette)', 'Popp Hunna'),\n",
       " ('Back from the Edge', 'James Arthur'),\n",
       " ('Hoopla x Wap (TikTok Mashup)', 'Eduardo Luzquiños'),\n",
       " ('Slowed Reverb TikTok (Remix)', 'Eduardo Luzquiños'),\n",
       " ('Slowed Reverb TikTok (Remix)', 'RH Music'),\n",
       " ('Slowed Reverb TikTok (Remix)', 'Eduardo Luzquiños'),\n",
       " ('Slowed Reverb TikTok (Remix)', 'RH Music'),\n",
       " ('BOO!', 'Championxiii'),\n",
       " ('Woah', '$wave'),\n",
       " ('Dancing in My Room', '347aidan'),\n",
       " ('Pitch Perfect 2 (Original Motion Picture Soundtrack)', 'Various Artists'),\n",
       " ('Slowed Reverb TikTok (Remix)', 'Eduardo Luzquiños'),\n",
       " ('Slowed Reverb TikTok (Remix)', 'RH Music'),\n",
       " ('IG FREESTYLE', 'WhoisATG!'),\n",
       " ('Put Your Records On', 'Ritt Momney'),\n",
       " ('Home', 'Edith Whiskers'),\n",
       " ('Euphoria (Original Score from the HBO Series)', 'Labrinth'),\n",
       " ('Papi Chulo', 'Octavian'),\n",
       " ('Papi Chulo', 'Skepta'),\n",
       " ('Fuck It Up!', 'Ocho Drippin'),\n",
       " ('Anthology', 'Grover Washington, Jr.'),\n",
       " ('Whoopty', 'CJ'),\n",
       " ('Wet (Chopped & Skrewed Remix)', 'YFN Lucci'),\n",
       " ('Wet (Chopped & Skrewed Remix)', 'The Chopstars'),\n",
       " ('Whole Lotta Choppas (Remix) [feat. Nicki Minaj]', 'Sada Baby'),\n",
       " ('Whole Lotta Choppas (Remix) [feat. Nicki Minaj]', 'Nicki Minaj'),\n",
       " ('Said Sum (feat. City Girls & DaBaby) [Remix]', 'Moneybagg Yo'),\n",
       " ('Daisy', 'Ashnikko'),\n",
       " ('BeVerly Hills BoYfRiEnd', 'Claire Rosinkranz'),\n",
       " ('BLAME IT ON BABY (DELUXE)', 'DaBaby'),\n",
       " ('Coffin', 'Lil Yachty'),\n",
       " ('Eyes Blue Like The Atlantic', 'Sista Prod'),\n",
       " ('good kid, m.A.A.d city', 'Kendrick Lamar'),\n",
       " ('Levitating (feat. DaBaby)', 'Dua Lipa'),\n",
       " ('Levitating (feat. DaBaby)', 'DaBaby'),\n",
       " ('Loyalty', 'Hp Boyz'),\n",
       " ('Love Lies (with Normani)', 'Khalid'),\n",
       " ('Love Lies (with Normani)', 'Normani'),\n",
       " ('Die Very Rough', 'Mario Judah'),\n",
       " (\"Dance Till You're Dead (Meme)\", 'MemesWithFire'),\n",
       " ('NOT ALL HEROES WEAR CAPES (Deluxe)', 'Metro Boomin'),\n",
       " ('NOT ALL HEROES WEAR CAPES (Deluxe)', '21 Savage'),\n",
       " ('Let Me Know (I Wonder Why Freestyle)', 'Juice WRLD'),\n",
       " ('Perception', 'NF'),\n",
       " ('SremmLife', 'Rae Sremmurd'),\n",
       " ('679 (feat. Remy Boyz)', 'Fetty Wap'),\n",
       " ('Then Leave (feat. Queendom Come)', 'BeatKing'),\n",
       " ('Girl Code', 'City Girls'),\n",
       " ('The Makings Of Me', 'Monica'),\n",
       " ('Code Red', 'Moneybagg Yo'),\n",
       " ('Code Red', 'Blac Youngsta'),\n",
       " ('Melly vs. Melvin', 'YNW Melly'),\n",
       " ('Ladz in the Hood', 'ONEFOUR'),\n",
       " ('Backyard Boogie', 'J Boog'),\n",
       " ('Rover (Remix) [feat. Hooligan Hefs, Youngn Lipz and Hooks]', 'S1mba'),\n",
       " ('Rover (Remix) [feat. Hooligan Hefs, Youngn Lipz and Hooks]',\n",
       "  'Hooligan Hefs'),\n",
       " ('Rover (Remix) [feat. Hooligan Hefs, Youngn Lipz and Hooks]', 'Youngn Lipz'),\n",
       " ('A GHETTO CHRISTMAS CAROL', 'XXXTENTACION'),\n",
       " ('Caillou', 'Lil Boom'),\n",
       " ('Snow Cougar', 'Yung Gravy'),\n",
       " ('Safe.', 'Sarah Meow'),\n",
       " ('Eyes Blue Like The Atlantic (feat. Subvrbs)', 'Sista Prod'),\n",
       " ('Lov32', 'Lul Patchy'),\n",
       " ('Lif3 Is Hard', 'Lul Patchy'),\n",
       " ('you broke me first', 'Tate McRae'),\n",
       " ('You Broke My Heart Again', 'Teqkoi'),\n",
       " ('You Broke My Heart Again', 'Aiko'),\n",
       " ('Goodbye & Good Riddance', 'Juice WRLD'),\n",
       " ('deadroses', 'blackbear'),\n",
       " ('Culture', 'Migos'),\n",
       " ('DAMN.', 'Kendrick Lamar'),\n",
       " ('FUTURE', 'Future'),\n",
       " ('Luv Is Rage 2', 'Lil Uzi Vert'),\n",
       " ('Harder Than Ever', 'Lil Baby'),\n",
       " ('Freaky Friday (feat. Chris Brown)', 'Lil Dicky'),\n",
       " ('Freaky Friday (feat. Chris Brown)', 'Chris Brown'),\n",
       " ('Get You The Moon (feat. Snøw)', 'Kina'),\n",
       " ('Amala', 'Doja Cat'),\n",
       " ('Happiest Year', 'Jaymes Young'),\n",
       " ('lovely (with Khalid)', 'Billie Eilish'),\n",
       " ('lovely (with Khalid)', 'Khalid'),\n",
       " ('Heaven Or Hell', 'Don Toliver'),\n",
       " ('Epidemic', 'Money Man'),\n",
       " ('All The Time 2', 'Wintertime'),\n",
       " ('15', 'Bhad Bhabie'),\n",
       " ('COSMIC', 'Bazzi'),\n",
       " ('Unknown', 'Young Fanatic'),\n",
       " ('20 Min (Chopped and Screwed)', 'DJ Purpberry'),\n",
       " ('LEFT RIGHT', 'Bktherula'),\n",
       " ('MiLLion DoLLa MiSSion', 'Frostydasnowmann'),\n",
       " ('Pull Up', 'LMB DG'),\n",
       " ('Meet The Woo', 'Pop Smoke'),\n",
       " ('Tuff', 'Jaah SLT'),\n",
       " ('Splash', 'Championxiii'),\n",
       " ('90mh', 'Trefuego'),\n",
       " ('Passion & Confusion', 'Timmies'),\n",
       " ('Missing', 'itssvd'),\n",
       " ('Missing', 'Shiloh Dynasty'),\n",
       " ('7 Years (Remix)', 'Sik World'),\n",
       " ('Alley: The Return of the Ying Yang Twins', 'Ying Yang Twins'),\n",
       " ('The Human Condition', 'Jon Bellion'),\n",
       " ('Elephunk', 'Black Eyed Peas'),\n",
       " ('Therefore I Am', 'Billie Eilish'),\n",
       " ('BALLADS 1', 'Joji'),\n",
       " ('Free With You', 'Rnla'),\n",
       " ('Free With You', 'yaeow'),\n",
       " ('Dead and Cold', 'SadBoyProlific'),\n",
       " ('On My Mind', 'Diplo'),\n",
       " ('On My Mind', 'SIDEPIECE'),\n",
       " ('Niggas in My Butthole', 'Lil Murrty'),\n",
       " ('Positions', 'Ariana Grande'),\n",
       " ('True 2 Myself', 'Lil Tjay'),\n",
       " ('PLASTIC', 'Unghetto Mathieu'),\n",
       " ('2001', 'Dr. Dre'),\n",
       " ('Astrid S', 'Astrid S'),\n",
       " ('Shoot For The Stars Aim For The Moon (Deluxe)', 'Pop Smoke'),\n",
       " ('Meet The Woo 2', 'Pop Smoke'),\n",
       " ('Can We Kiss Forever?', 'Kina'),\n",
       " ('Can We Kiss Forever?', 'Adriana Proenza'),\n",
       " ('Obnimi (Remix)', 'Eduardo Luzquiños'),\n",
       " ('Obnimi (Remix)', 'Okean Elzi'),\n",
       " ('Eternal Atake (Deluxe) - LUV vs. The World 2', 'Lil Uzi Vert'),\n",
       " ('Luv Is Rage 2 (Deluxe)', 'Lil Uzi Vert'),\n",
       " ('Meet The Woo 2', 'Pop Smoke'),\n",
       " ('Hatchback', 'Cochise'),\n",
       " ('Wake Up In The Sky', 'Lil Heavy Chainz'),\n",
       " ('Please Excuse Me for Being Antisocial', 'Roddy Ricch'),\n",
       " ('FEMA (Finesse Elevate Motivate Achieve)', 'Kodak Black'),\n",
       " ('STOP STARING AT THE SHADOWS', '$uicideboy$'),\n",
       " ('Hit tha Roof', 'Speed Gang'),\n",
       " ('Rockstar Shit', 'BLIND.SEE'),\n",
       " ('Rockstar Shit', 'BRYOZA'),\n",
       " ('Eternal Atake', 'Lil Uzi Vert'),\n",
       " ('Heaven Or Hell (CHOPNOTSLOP REMIX)', 'Don Toliver'),\n",
       " (\"Before I Die I'm Tryna Fuck You Baby\", 'JK Jones'),\n",
       " ('(i hope you) miss me', 'Joseph Black'),\n",
       " ('DIE FOR MY BITCH', 'Baby Keem'),\n",
       " ('Smells Like Drill Spirit Freestyle', 'Ddark'),\n",
       " ('California Haitian', 'Haiti Babii'),\n",
       " ('LMK', 'Lil Xxel'),\n",
       " ('No Guidance (Remix)', 'Quise UE'),\n",
       " ('Outta There', 'Moe'),\n",
       " (\"Love Me Like I'm Dead\", 'Foolio'),\n",
       " ('Pain is Temporary', 'Bankrol Hayden'),\n",
       " ('Muffins In The Freezer', 'Tiagz'),\n",
       " ('Sexy', 'JoeVille'),\n",
       " ('True 2 Myself', 'Lil Tjay'),\n",
       " ('Meet The Woo 2', 'Pop Smoke'),\n",
       " ('Shoot For The Stars Aim For The Moon', 'Pop Smoke'),\n",
       " ('Look At Me!', 'XXXTENTACION'),\n",
       " ('SKINS', 'XXXTENTACION'),\n",
       " ('Goodbye & Good Riddance', 'Juice WRLD'),\n",
       " ('Smile (with The Weeknd)', 'Juice WRLD'),\n",
       " ('Smile (with The Weeknd)', 'The Weeknd'),\n",
       " ('Come & Go (with Marshmello)', 'Juice WRLD'),\n",
       " ('Come & Go (with Marshmello)', 'Marshmello'),\n",
       " ('Silence', 'Marshmello'),\n",
       " ('Silence', 'Khalid'),\n",
       " ('Be Like That (feat. Swae Lee & Khalid)', 'Kane Brown'),\n",
       " ('Be Like That (feat. Swae Lee & Khalid)', 'Swae Lee'),\n",
       " ('Be Like That (feat. Swae Lee & Khalid)', 'Khalid'),\n",
       " ('Flights.', '$camm'),\n",
       " ('Finally Rich', 'Chief Keef'),\n",
       " ('Megalithic Symphony Deluxe', 'AWOLNATION'),\n",
       " ('Stoney (Deluxe)', 'Post Malone'),\n",
       " ('bloom', 'Machine Gun Kelly'),\n",
       " ('AVĪCI (01)', 'Avicii'),\n",
       " ('Jungle Rules', 'French Montana'),\n",
       " ('AVĪCI (01)', 'Avicii'),\n",
       " (\"Silence (Tiësto's Big Room Remix)\", 'Marshmello'),\n",
       " (\"Silence (Tiësto's Big Room Remix)\", 'Khalid'),\n",
       " ('Falling Apart', 'Mixed Version'),\n",
       " ('My Turn (Deluxe)', 'Lil Baby'),\n",
       " ('Baby Goat', 'YNW BSlime'),\n",
       " ('Baby Goat', 'YNW BSlime'),\n",
       " ('Thug Luv', 'Trouble'),\n",
       " ('ROLLIN N CONTROLLIN FREESTYLE', 'DUSTY LOCANE'),\n",
       " ('15', 'Bhad Bhabie'),\n",
       " ('The Heist', 'Macklemore & Ryan Lewis'),\n",
       " ('Glorious (feat. Skylar Grey)', 'Macklemore'),\n",
       " ('Tell Me Why (feat. Shiloh Dynasty)', 'Danny G'),\n",
       " ('Cole World: The Sideline Story', 'J. Cole'),\n",
       " ('Coming Home', 'Sheppard'),\n",
       " ('MKTO', 'MKTO'),\n",
       " ('Calling My Phone', 'Lil Hxxrtbreak'),\n",
       " ('Love Is Gone (Acoustic)', 'SLANDER'),\n",
       " ('Love Is Gone (Acoustic)', 'Dylan Matthew'),\n",
       " ('Calling My Phone', 'Lil Tjay'),\n",
       " ('Calling My Phone', '6LACK'),\n",
       " ('?', 'XXXTENTACION'),\n",
       " ('STOKELEY', 'Ski Mask The Slump God'),\n",
       " ('The Greatest Showman (Original Motion Picture Soundtrack)',\n",
       "  'Various Artists'),\n",
       " ('drivers license', 'Olivia Rodrigo'),\n",
       " ('Dusk Till Dawn (feat. Sia) [Radio Edit]', 'ZAYN'),\n",
       " ('Arcade', 'Duncan Laurence'),\n",
       " ('Pose (feat. Lil Uzi Vert)', 'Yo Gotti'),\n",
       " ('State of Emergency', 'Lil Tjay'),\n",
       " (\"Don't Play\", 'Anne-Marie'),\n",
       " (\"Don't Play\", 'KSI'),\n",
       " (\"Don't Play\", 'Digital Farm Animals'),\n",
       " ('DROPPED OUTTA COLLEGE', '24kGoldn'),\n",
       " ('Best Ever (feat. Ayo & Teo)', 'Polo Frost'),\n",
       " ('THE GOAT', 'Polo G'),\n",
       " ('Drip', 'Klondike Blonde'),\n",
       " ('Bruises', 'Kevin Close'),\n",
       " ('Dirt Bag', 'Blueface'),\n",
       " ('In The Lonely Hour (Drowning Shadows Edition)', 'Sam Smith'),\n",
       " ('Campfire Freestyle', 'tokyo<3'),\n",
       " (\"I'm Him\", 'Kevin Gates'),\n",
       " ('6locc 6a6y', 'Lil Loaded'),\n",
       " ('Die A Legend', 'Polo G'),\n",
       " ('Monkey Business', 'Black Eyed Peas'),\n",
       " ('SremmLife 2 (Deluxe)', 'Rae Sremmurd'),\n",
       " ('Astronaut In The Ocean', 'Masked Wolf'),\n",
       " ('Raydiation', 'Ray J'),\n",
       " ('It Will Rain', 'Bruno Mars'),\n",
       " ('Doo-Wops & Hooligans', 'Bruno Mars'),\n",
       " ('Dreamland (+ Bonus Levels)', 'Glass Animals'),\n",
       " ('THE GOAT', 'Polo G'),\n",
       " ('THE GOAT', 'Polo G'),\n",
       " ('STOKELEY', 'Ski Mask The Slump God'),\n",
       " ('Luv Is Rage', 'Lil Uzi Vert'),\n",
       " ('The Business', 'Tiësto'),\n",
       " ('Chug Jug With You', 'Leonz'),\n",
       " ('Sunflower', 'Rex Orange County'),\n",
       " ('Goosebumps (Remix)', 'Travis Scott'),\n",
       " ('Goosebumps (Remix)', 'HVME'),\n",
       " ('Up', 'Cardi B'),\n",
       " ('Nasty Freestyle', 'T-Wayne'),\n",
       " ('At Night, Alone.', 'Mike Posner'),\n",
       " ('Smells Like Teen Spirit', 'N-Vitral'),\n",
       " ('Smells Like Teen Spirit', 'Deadly Guns'),\n",
       " ('Get Dissed', 'Deadly Guns'),\n",
       " ('Hope', 'The Strumbellas'),\n",
       " ('Cleopatra', 'The Lumineers'),\n",
       " ('Only the Generals Gon Understand', 'Kevin Gates'),\n",
       " ('RAPSTAR', 'Polo G'),\n",
       " ('ALL GIRLS ARE THE SAME', 'RØNIN'),\n",
       " ('17', 'XXXTENTACION'),\n",
       " ('Revenge', 'XXXTENTACION'),\n",
       " ('Kwengface x Fumez The Engineer, Pt. 1 - Plugged In', 'Fumez The Engineer'),\n",
       " ('Kwengface x Fumez The Engineer, Pt. 1 - Plugged In', 'Kwengface'),\n",
       " ('TPL x Fumez The Engineer - Plugged In Freestyle', 'Fumez The Engineer'),\n",
       " ('Body', 'Russ Millions'),\n",
       " ('Body', 'Tion Wayne'),\n",
       " ('Wake Up in the Sky', 'Gucci Mane'),\n",
       " ('Wake Up in the Sky', 'Bruno Mars'),\n",
       " ('Wake Up in the Sky', 'Kodak Black'),\n",
       " ('German', 'No Money Enterprise'),\n",
       " ('Street Ruff Money', 'Street Ruff Money'),\n",
       " ('More Life', 'Drake'),\n",
       " ('Loading', 'Central Cee'),\n",
       " ('Beat Box 3 (feat. DaBaby)', 'SpotemGottem'),\n",
       " ('Beat Box 4 (with NLE Choppa)', 'SpotemGottem'),\n",
       " ('Beat Box 4 (with NLE Choppa)', 'NLE Choppa'),\n",
       " ('Beat Box', 'SpotemGottem'),\n",
       " (\"There's Really A Wolf\", 'Russ'),\n",
       " ('In A Tidal Wave Of Mystery (Deluxe Edition)', 'Capital Cities'),\n",
       " ('Sunset Lover Night Trouble', 'SelteMemset'),\n",
       " ('Momentum (Mixtape)', 'Ro Ransom'),\n",
       " ('Dick (feat. Doja Cat)', 'StarBoi3'),\n",
       " ('Track Star', 'Mooski'),\n",
       " ('Latest Trends', 'A1 x J1'),\n",
       " ('Eshays', 'Sydney Yungins'),\n",
       " ('SEND IT!', 'Hooligan Hefs'),\n",
       " (\"WHAT'S GOOD (feat. Delawou)\", 'Jaecy'),\n",
       " (\"WHAT'S GOOD (feat. Delawou)\", 'Delawou'),\n",
       " ('Take Off', 'Hooligan Hefs'),\n",
       " ('Take Off', 'SCNDL'),\n",
       " ('Take Off', 'Sunset Bros'),\n",
       " ('Say It Again', 'ONEFOUR'),\n",
       " ('Body (Remix) [feat. ArrDee, E1 (3x3), ZT (3x3), Bugzy Malone, Buni, Fivio Foreign & Darkoo]',\n",
       "  'Tion Wayne'),\n",
       " ('Body (Remix) [feat. ArrDee, E1 (3x3), ZT (3x3), Bugzy Malone, Buni, Fivio Foreign & Darkoo]',\n",
       "  'Russ Millions'),\n",
       " ('Body (Remix) [feat. ArrDee, E1 (3x3), ZT (3x3), Bugzy Malone, Buni, Fivio Foreign & Darkoo]',\n",
       "  'Fivio Foreign'),\n",
       " ('True 2 Myself', 'Lil Tjay'),\n",
       " ('Run That Ball', 'Sydney Yungins'),\n",
       " ('I AM YOU', 'YNW Melly'),\n",
       " ('Me and My Brother', '5ive'),\n",
       " ('Angelic 7', 'SoFaygo'),\n",
       " ('Ocean (feat. Khalid)', 'Martin Garrix'),\n",
       " ('Ocean (feat. Khalid)', 'Khalid'),\n",
       " ('Friday (feat. Mufasa & Hypeman) [Dopamine Re-Edit]', 'Riton'),\n",
       " ('Friday (feat. Mufasa & Hypeman) [Dopamine Re-Edit]', 'Nightcrawlers'),\n",
       " ('Friday (feat. Mufasa & Hypeman) [Dopamine Re-Edit]', 'Mufasa & Hypeman'),\n",
       " ('Welcome To Brixton', 'SR')]"
      ]
     },
     "execution_count": 63,
     "metadata": {},
     "output_type": "execute_result"
    }
   ],
   "source": [
    "flatten(playlist2_songs_artists)\n"
   ]
  }
 ],
 "metadata": {
  "kernelspec": {
   "display_name": "Python 3 (ipykernel)",
   "language": "python",
   "name": "python3"
  },
  "language_info": {
   "codemirror_mode": {
    "name": "ipython",
    "version": 3
   },
   "file_extension": ".py",
   "mimetype": "text/x-python",
   "name": "python",
   "nbconvert_exporter": "python",
   "pygments_lexer": "ipython3",
   "version": "3.9.12"
  },
  "toc": {
   "base_numbering": 1,
   "nav_menu": {},
   "number_sections": true,
   "sideBar": true,
   "skip_h1_title": false,
   "title_cell": "Table of Contents",
   "title_sidebar": "Contents",
   "toc_cell": false,
   "toc_position": {},
   "toc_section_display": true,
   "toc_window_display": false
  }
 },
 "nbformat": 4,
 "nbformat_minor": 5
}
